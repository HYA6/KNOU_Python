{
  "nbformat": 4,
  "nbformat_minor": 0,
  "metadata": {
    "colab": {
      "provenance": [],
      "authorship_tag": "ABX9TyMD76GNt0V1Cp6KhTgN7s2i",
      "include_colab_link": true
    },
    "kernelspec": {
      "name": "python3",
      "display_name": "Python 3"
    },
    "language_info": {
      "name": "python"
    }
  },
  "cells": [
    {
      "cell_type": "markdown",
      "metadata": {
        "id": "view-in-github",
        "colab_type": "text"
      },
      "source": [
        "<a href=\"https://colab.research.google.com/github/HYA6/Python_KNOU/blob/master/Python_KNOU_part4.ipynb\" target=\"_parent\"><img src=\"https://colab.research.google.com/assets/colab-badge.svg\" alt=\"Open In Colab\"/></a>"
      ]
    },
    {
      "cell_type": "markdown",
      "source": [
        "# **Python 수업 4강**"
      ],
      "metadata": {
        "id": "txUi7Rt6FkTC"
      }
    },
    {
      "cell_type": "markdown",
      "source": [
        "### 숫자와 문자"
      ],
      "metadata": {
        "id": "tA3ETfyWGsbY"
      }
    },
    {
      "cell_type": "code",
      "execution_count": 7,
      "metadata": {
        "colab": {
          "base_uri": "https://localhost:8080/"
        },
        "id": "5MPNGgFKD6jT",
        "outputId": "ae423a9f-2faf-4d96-a0b6-2adec2eff6cc"
      },
      "outputs": [
        {
          "output_type": "stream",
          "name": "stdout",
          "text": [
            "3.141592 53000000 Hello World\n",
            "<class 'float'> <class 'int'> <class 'str'>\n"
          ]
        }
      ],
      "source": [
        "a = 3.141592\n",
        "b = 53000000\n",
        "c = \"Hello World\"\n",
        "print(a, b, c)\n",
        "print(type(a), type(b), type(c))"
      ]
    },
    {
      "cell_type": "markdown",
      "source": [
        "---\n",
        "### 기본연산자와 표현식"
      ],
      "metadata": {
        "id": "TVXOsVhHHZv4"
      }
    },
    {
      "cell_type": "code",
      "source": [
        "d = 2 * (7 + 15)\n",
        "e = 2 ** 10 * 5\n",
        "f = \"computer\" + \"science\"\n",
        "print(d, e, f)\n",
        "print(type(d), type(e), type(f))"
      ],
      "metadata": {
        "colab": {
          "base_uri": "https://localhost:8080/"
        },
        "id": "GdpX_8KVHdxo",
        "outputId": "251c2c77-6162-4641-ee6b-0e3ea3ad0f10"
      },
      "execution_count": 13,
      "outputs": [
        {
          "output_type": "stream",
          "name": "stdout",
          "text": [
            "44 5120 computerscience\n",
            "<class 'int'> <class 'int'> <class 'str'>\n"
          ]
        }
      ]
    },
    {
      "cell_type": "markdown",
      "source": [
        "---\n",
        "### 함수"
      ],
      "metadata": {
        "id": "O9k1yqb_IIIQ"
      }
    },
    {
      "cell_type": "code",
      "source": [
        "print(\"Hello World!\")\n",
        "print(\"Python is fun\")"
      ],
      "metadata": {
        "colab": {
          "base_uri": "https://localhost:8080/"
        },
        "id": "EKAcVwnUH9Vw",
        "outputId": "d33aeeda-038d-4c9c-8c60-767d2f29bc73"
      },
      "execution_count": 15,
      "outputs": [
        {
          "output_type": "stream",
          "name": "stdout",
          "text": [
            "Hello World!\n",
            "Python is fun\n"
          ]
        }
      ]
    },
    {
      "cell_type": "code",
      "source": [
        "print(\"Hello World!\")\n",
        "  # print(\"Python is fun\") 들여쓰기 오류"
      ],
      "metadata": {
        "colab": {
          "base_uri": "https://localhost:8080/"
        },
        "id": "HUwbwd88IWRh",
        "outputId": "3c9a0bdb-573b-4d64-a589-aa7525da0848"
      },
      "execution_count": 17,
      "outputs": [
        {
          "output_type": "stream",
          "name": "stdout",
          "text": [
            "Hello World!\n"
          ]
        }
      ]
    }
  ]
}