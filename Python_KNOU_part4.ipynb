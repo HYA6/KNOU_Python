{
  "nbformat": 4,
  "nbformat_minor": 0,
  "metadata": {
    "colab": {
      "provenance": [],
      "authorship_tag": "ABX9TyPMiJ+DAzONX3jDhtGUEZ4Q",
      "include_colab_link": true
    },
    "kernelspec": {
      "name": "python3",
      "display_name": "Python 3"
    },
    "language_info": {
      "name": "python"
    }
  },
  "cells": [
    {
      "cell_type": "markdown",
      "metadata": {
        "id": "view-in-github",
        "colab_type": "text"
      },
      "source": [
        "<a href=\"https://colab.research.google.com/github/HYA6/Python_KNOU/blob/master/Python_KNOU_part4.ipynb\" target=\"_parent\"><img src=\"https://colab.research.google.com/assets/colab-badge.svg\" alt=\"Open In Colab\"/></a>"
      ]
    },
    {
      "cell_type": "markdown",
      "source": [
        "# **Python 수업 4강**"
      ],
      "metadata": {
        "id": "txUi7Rt6FkTC"
      }
    },
    {
      "cell_type": "markdown",
      "source": [
        "---\n",
        "### 숫자와 문자"
      ],
      "metadata": {
        "id": "tA3ETfyWGsbY"
      }
    },
    {
      "cell_type": "code",
      "execution_count": null,
      "metadata": {
        "colab": {
          "base_uri": "https://localhost:8080/"
        },
        "id": "5MPNGgFKD6jT",
        "outputId": "ae423a9f-2faf-4d96-a0b6-2adec2eff6cc"
      },
      "outputs": [
        {
          "output_type": "stream",
          "name": "stdout",
          "text": [
            "3.141592 53000000 Hello World\n",
            "<class 'float'> <class 'int'> <class 'str'>\n"
          ]
        }
      ],
      "source": [
        "a = 3.141592\n",
        "b = 53000000\n",
        "c = \"Hello World\"\n",
        "print(a, b, c)\n",
        "print(type(a), type(b), type(c))"
      ]
    },
    {
      "cell_type": "code",
      "source": [
        "# 한글이나 워드 파일은 유니코드 베이스이기 때문에 인용 부호가 다르다. (한글, 워드 : “”)\n",
        "# 따라서 문자 코드를 복사, 붙여넣기 하면 오류 발생\n",
        "\"Computer\"\n",
        "# “Hello World!”# SyntaxError: invalid character '“'"
      ],
      "metadata": {
        "colab": {
          "base_uri": "https://localhost:8080/",
          "height": 35
        },
        "id": "Kz50NMzaMrjh",
        "outputId": "cb3df9f7-79fb-48fe-96e8-415b21890fc1"
      },
      "execution_count": 23,
      "outputs": [
        {
          "output_type": "execute_result",
          "data": {
            "text/plain": [
              "'Computer'"
            ],
            "application/vnd.google.colaboratory.intrinsic+json": {
              "type": "string"
            }
          },
          "metadata": {},
          "execution_count": 23
        }
      ]
    },
    {
      "cell_type": "markdown",
      "source": [
        "---\n",
        "### 기본연산자와 표현식"
      ],
      "metadata": {
        "id": "TVXOsVhHHZv4"
      }
    },
    {
      "cell_type": "code",
      "source": [
        "d = 2 * (7 + 15)\n",
        "e = 2 ** 10 * 5\n",
        "f = \"computer \" + \"science\"\n",
        "print(d, e, f)\n",
        "print(type(d), type(e), type(f))"
      ],
      "metadata": {
        "colab": {
          "base_uri": "https://localhost:8080/"
        },
        "id": "GdpX_8KVHdxo",
        "outputId": "c8928724-071f-4633-9f12-e1257eec67f1"
      },
      "execution_count": null,
      "outputs": [
        {
          "output_type": "stream",
          "name": "stdout",
          "text": [
            "44 5120 computer science\n",
            "<class 'int'> <class 'int'> <class 'str'>\n"
          ]
        }
      ]
    },
    {
      "cell_type": "markdown",
      "source": [
        "---\n",
        "### 함수"
      ],
      "metadata": {
        "id": "O9k1yqb_IIIQ"
      }
    },
    {
      "cell_type": "code",
      "source": [
        "print(\"Hello World!\")\n",
        "print(\"Python is fun\")"
      ],
      "metadata": {
        "colab": {
          "base_uri": "https://localhost:8080/"
        },
        "id": "EKAcVwnUH9Vw",
        "outputId": "d33aeeda-038d-4c9c-8c60-767d2f29bc73"
      },
      "execution_count": null,
      "outputs": [
        {
          "output_type": "stream",
          "name": "stdout",
          "text": [
            "Hello World!\n",
            "Python is fun\n"
          ]
        }
      ]
    },
    {
      "cell_type": "code",
      "source": [
        "print(\"Hello World!\")\n",
        "  # print(\"Python is fun\") 들여쓰기 오류 발생"
      ],
      "metadata": {
        "colab": {
          "base_uri": "https://localhost:8080/"
        },
        "id": "HUwbwd88IWRh",
        "outputId": "3c9a0bdb-573b-4d64-a589-aa7525da0848"
      },
      "execution_count": null,
      "outputs": [
        {
          "output_type": "stream",
          "name": "stdout",
          "text": [
            "Hello World!\n"
          ]
        }
      ]
    },
    {
      "cell_type": "markdown",
      "source": [
        "---\n",
        "### 문서화"
      ],
      "metadata": {
        "id": "DVg73PAbJIdA"
      }
    },
    {
      "cell_type": "code",
      "source": [
        "# 주석 사용법\n",
        "# 한 라인에 # 사용\n",
        "# 여러 라인엔 \"\"\" 또는 ''' 3개 연달아 사용 (Colab에선 동작 X)\n",
        "\n",
        "# 성적 계산\n",
        "# 계산 방식 sum(성적 * 학점)/(총학점)\n",
        "print((4.5 * 2 + 4.0 * 3) / (130 - 66))"
      ],
      "metadata": {
        "colab": {
          "base_uri": "https://localhost:8080/"
        },
        "id": "wcSz-9UUJMon",
        "outputId": "38dcf9d6-dab4-4a7f-8d74-41fcb0687b8e"
      },
      "execution_count": null,
      "outputs": [
        {
          "output_type": "stream",
          "name": "stdout",
          "text": [
            "0.328125\n"
          ]
        }
      ]
    }
  ]
}