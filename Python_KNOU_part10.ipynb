{
  "nbformat": 4,
  "nbformat_minor": 0,
  "metadata": {
    "colab": {
      "provenance": [],
      "authorship_tag": "ABX9TyPYIYGAutRW+8GewCj/CSMk",
      "include_colab_link": true
    },
    "kernelspec": {
      "name": "python3",
      "display_name": "Python 3"
    },
    "language_info": {
      "name": "python"
    }
  },
  "cells": [
    {
      "cell_type": "markdown",
      "metadata": {
        "id": "view-in-github",
        "colab_type": "text"
      },
      "source": [
        "<a href=\"https://colab.research.google.com/github/HYA6/Python_KNOU/blob/master/Python_KNOU_part10.ipynb\" target=\"_parent\"><img src=\"https://colab.research.google.com/assets/colab-badge.svg\" alt=\"Open In Colab\"/></a>"
      ]
    },
    {
      "cell_type": "markdown",
      "source": [
        "# **Python 수업 10강**"
      ],
      "metadata": {
        "id": "u0DF49DwJCaP"
      }
    },
    {
      "cell_type": "markdown",
      "source": [
        "## **객체지향**"
      ],
      "metadata": {
        "id": "FxA2jI2xJI0f"
      }
    },
    {
      "cell_type": "markdown",
      "source": [
        "---\n",
        "### **1. 객체지향의 이해**"
      ],
      "metadata": {
        "id": "1mLBpQ7Rjj3B"
      }
    },
    {
      "cell_type": "markdown",
      "source": [
        "**객체지향의 개념**<br/>\n",
        "- 객체와 객체 사이의 상호작용으로 프로그램을 구성하는 프로그래밍 패러다임<br/>\n",
        "- 프로그램을 유연하고 변경을 쉽게 만들어 대규모 소프트웨어 개발에 사용\n",
        "- 객체지향 패러다임의 특징\n",
        "  - **추상화** : 공통의 속성이나 기능을 도출\n",
        "  - **캡슐화** : 데이터 구조와 데이터의 연산을 결합\n",
        "  - **상속** : 상위 개념의 특징이 하위 개념에 전달\n",
        "  - **다형성** : 유사 객체의 사용성을 그대로 유지"
      ],
      "metadata": {
        "id": "dN_Mgcg_JTcP"
      }
    },
    {
      "cell_type": "markdown",
      "source": [
        "**객체**<br/>\n",
        "- 객체는 추상화와 캡슐화의 결과\n",
        "- 실세계의 사물에 대한 상태(데이터)와 연산(메소드)을 표현한 단위\n",
        "  - 멤버(데이터필드, 메소드)는 클래스(≒설계도면)에 의해 결정\n",
        "- 즉, 데이터(데이터필드=변수)와 연산(메소드=함수)이 합쳐진 것이 객체\n",
        "- 파이썬에서 사용하는 변수, 값 등이 모두 객체"
      ],
      "metadata": {
        "id": "H7pfLdXWXSMK"
      }
    },
    {
      "cell_type": "markdown",
      "source": [
        "**클래스**<br/>\n",
        "- 구문형식<br/>\n",
        "class 클래스 이름:<br/>\n",
        "&nbsp;&nbsp;&nbsp;&nbsp;초기자 정의<br/>\n",
        "&nbsp;&nbsp;&nbsp;&nbsp;메소드 정의\n",
        "- 메소드(method)\n",
        "  - 객체에 대한 행동(연산)을 정의\n",
        "  - 함수의 정의 및 사용 방법과 동일\n",
        "- 초기자(initializer)\n",
        "  - 객체의 상태를 초기화하는 특수 메소드\n",
        "  - 항상 \t&#95;\t&#95;init\t&#95;\t&#95; 으로 명명"
      ],
      "metadata": {
        "id": "qA6CeiDQYMkQ"
      }
    },
    {
      "cell_type": "markdown",
      "source": [
        "**메소드의 정의**<br/>\n",
        "- 구문형식<br/>\n",
        "class 클래스 이름:<br/>\n",
        "&nbsp;&nbsp;&nbsp;&nbsp;def 메소드 이름(self, 매개변수 리스트)<br/>\n",
        "&nbsp;&nbsp;&nbsp;&nbsp;&nbsp;&nbsp;&nbsp;&nbsp;코드 블럭\n",
        "- self 매개변수\n",
        "  - 모든 메소드의 첫번째 매개변수\n",
        "  - 메소드의 구현에 사용되지만 메소드 호출 시 사용되지 않음\n",
        "  - 객체 자신을 참조하여 클래스 정의에 포함된 멤버에 접근 시 사용\n",
        "  - self로 선언된 변수는 class 내부 어디에서나 호출 가능"
      ],
      "metadata": {
        "id": "pEWsVJM0cELY"
      }
    },
    {
      "cell_type": "code",
      "source": [
        "# 원뿔 부피와 겉넓이 구하는 클래스 정의하기\n",
        "class Cone : # 클래스 이름은 대문자 권장\n",
        "  def __init__(self, radius = 20, height = 30):\n",
        "    self.r = radius\n",
        "    self.h = height\n",
        "\n",
        "  # 부피\n",
        "  def get_vol(self):\n",
        "    return 1/3 * 3.14 * self.r ** 2 * self.h\n",
        "\n",
        "  # 겉넓이\n",
        "  def get_surf(self):\n",
        "    return 3.14 * self.r ** 2 + 3.14 * self.r * self.h"
      ],
      "metadata": {
        "id": "NMyuYmq8JQy3"
      },
      "execution_count": null,
      "outputs": []
    },
    {
      "cell_type": "markdown",
      "source": [
        "**클래스 설계**<br/>\n",
        "- UML 클래스 다이어그램 통해 데이터필드,\n",
        "생성자, 메소드 표현 방법 표준화\n",
        "  - 데이터 필드 이름: 데이터 필드 타입\n",
        "  - 클래스 이름(매개변수 이름: 매개변수 타입)\n",
        "  - 메소드 이름(매개변수 이름: 매개변수 타입): 반환값 타입\n",
        "  - UML : 'Unified Modeling Language'의 약어로, 표준화된 모델링 언어를 의미\n",
        "- UML 클래스 다이어그램 예시(원뿔)<br/>\n",
        "  <img src=\"https://drive.google.com/uc?id=1djfbbtAvpWRhDLVbAMgT2k9jItEn3oRq\" height=\"250\"><br/>\n",
        "  - Cone => 클래스 이름\n",
        "  - r: int, h: int => 데이터 필드와 타입\n",
        "  - Cone(radius = 20: int, height = 30: int) => 생성자"
      ],
      "metadata": {
        "id": "-gSbrog9X2Tm"
      }
    },
    {
      "cell_type": "markdown",
      "source": [
        "**BMI 계산 프로그램**<br/>\n",
        "&nbsp;&nbsp;&nbsp;&nbsp;<img src=\"https://drive.google.com/uc?id=1-ylK_kfIaBHIqEmq4Bbk9RbYi27hKlwz\" height=\"250\">"
      ],
      "metadata": {
        "id": "qi1wbkaudUuI"
      }
    },
    {
      "cell_type": "code",
      "source": [
        "# 이름, 나이, 몸무게, 키를 사용하여 BMI 수치 및 상태를 반환하는 BMI 클래스를 정의\n",
        "class BMI:\n",
        "  def __init__(self, name = \"아무개\", age = 24, weight = 50, height = 170):\n",
        "    self.n = name\n",
        "    self.a = age\n",
        "    self.w = weight\n",
        "    self.h = height\n",
        "\n",
        "  # BMI 수치 반환\n",
        "  def get_BMI(self):\n",
        "    return self.w / (self.h * 0.01) ** 2\n",
        "\n",
        "  # BMI 상태 반환\n",
        "  def get_status(self):\n",
        "    bmi = self.get_BMI()\n",
        "    if bmi >= 25 :\n",
        "      return \"비만\"\n",
        "    elif bmi >= 23 and bmi < 25 :\n",
        "      return \"과체중\"\n",
        "    elif bmi >= 18.5 and bmi < 23 :\n",
        "      return \"정상\"\n",
        "    else :\n",
        "      return \"저체중\""
      ],
      "metadata": {
        "id": "DCXl7xtbZ5vJ"
      },
      "execution_count": null,
      "outputs": []
    },
    {
      "cell_type": "markdown",
      "source": [
        "---\n",
        "### **2. 클래스와 인스턴스**"
      ],
      "metadata": {
        "id": "2xpgWm68InI4"
      }
    },
    {
      "cell_type": "markdown",
      "source": [
        "**객체와 인스턴스**<br/>\n",
        "- 구문형식<br/>\n",
        "&nbsp;&nbsp;&nbsp;&nbsp;클래스 이름(초기자 파라미터)<br/>\n",
        "&nbsp;&nbsp;&nbsp;&nbsp;=> 이 형식은 생성자를 호출한다.<br/>\n",
        "  - 클래스의 생성자(constructor)를 통해 클래스의 인스턴스 생성\n",
        "  - 객체와 인스턴스는 동일 개념\n",
        "  - 클래스의 생성자는 클래스의 이름과 동일\n",
        "  - 클래스의 이름과 초기자의 매개변수를 사용하여 생성자를 호출\n",
        "- 객체의 생성 과정\n",
        "  1. 클래스에 해당하는 객체를 메모리에 생성\n",
        "  2. &#95;\t&#95;init\t&#95; &#95;() 호출 => 생성자를 이용해 값 할당\n",
        "- 객체의 사용\n",
        "  - 객체 멤버 접근 연산자(.) 사용\n",
        "- 객체 접근<br/>\n",
        "&nbsp;&nbsp;&nbsp;&nbsp;=> 객체 참조변수.데이터 필드<br/>\n",
        "&nbsp;&nbsp;&nbsp;&nbsp;=> 객체 참조변수.메소드(파라미터)<br/>\n",
        "  - 객체 참조변수를 사용하여 객체를 생성<br/>\n",
        "&nbsp;&nbsp;&nbsp;&nbsp;&nbsp;&nbsp;=> 객체 참조변수 = 클래스 이름(초기자 파라미터)"
      ],
      "metadata": {
        "id": "zHiZa2Ao3r1v"
      }
    },
    {
      "cell_type": "code",
      "source": [
        "# 원뿔 클래스 활용\n",
        "unit_cone = Cone() # 객체 참조변수 = 클래스 이름(초기자 파라미터) => 파라미터 지정을 안해주면 클래스에 지정된 기본값으로 실행\n",
        "big_cone = Cone(50, 100)\n",
        "\n",
        "print(\"단위 원뿔의 겉넓이와 부피는 \", unit_cone.get_surf(), \", \", unit_cone.get_vol(), \"입니다.\", sep=\"\")\n",
        "print(\"큰 원뿔의 겉넓이와 부피는 \", big_cone.get_surf(), \", \", big_cone.get_vol(), \"입니다.\", sep=\"\")"
      ],
      "metadata": {
        "colab": {
          "base_uri": "https://localhost:8080/"
        },
        "id": "xKSUnMfcAUme",
        "outputId": "18a25efd-2862-4dc1-b87c-a2625192a172"
      },
      "execution_count": null,
      "outputs": [
        {
          "output_type": "stream",
          "name": "stdout",
          "text": [
            "단위 원뿔의 겉넓이와 부피는 3140.0, 12559.999999999998입니다.\n",
            "큰 원뿔의 겉넓이와 부피는 23550.0, 261666.66666666666입니다.\n"
          ]
        }
      ]
    },
    {
      "cell_type": "code",
      "source": [
        "# BMI 클래스 활용\n",
        "person1 = BMI(\"홍길동\", 40, 78, 182)\n",
        "\n",
        "print(person1.n + \"(\" + str(person1.a) + \")의 BMI수치는 \" + str(format(person1.get_BMI(), \">.2f\")) + \"이고, \" + person1.get_status() + \"입니다.\")"
      ],
      "metadata": {
        "colab": {
          "base_uri": "https://localhost:8080/"
        },
        "id": "6V07_piUBolg",
        "outputId": "ecbc6eac-2db3-4913-e6bb-161a3242a284"
      },
      "execution_count": null,
      "outputs": [
        {
          "output_type": "stream",
          "name": "stdout",
          "text": [
            "홍길동(40)의 BMI수치는 23.55이고, 과체중입니다.\n"
          ]
        }
      ]
    },
    {
      "cell_type": "markdown",
      "source": [
        "---\n",
        "### **3. 객체지향의 활용**"
      ],
      "metadata": {
        "id": "b2N93spHj7L9"
      }
    },
    {
      "cell_type": "code",
      "source": [
        "# 데이터 타입과 객체\n",
        "number = 20\n",
        "print(type(number))\n",
        "print(id(number))\n",
        "\n",
        "symbol = \"파이썬\"\n",
        "print(type(symbol))\n",
        "print(id(symbol))"
      ],
      "metadata": {
        "colab": {
          "base_uri": "https://localhost:8080/"
        },
        "id": "GbGD0BKNHyx3",
        "outputId": "aa7150b8-4b7f-402a-bb31-f02f405655ce"
      },
      "execution_count": null,
      "outputs": [
        {
          "output_type": "stream",
          "name": "stdout",
          "text": [
            "<class 'int'>\n",
            "138239806915408\n",
            "<class 'str'>\n",
            "138238755893968\n"
          ]
        }
      ]
    },
    {
      "cell_type": "markdown",
      "source": [
        "**str 메소드<br/>**\n",
        "- upper(), lower() : 대/소문자로 변경\n",
        "- title() : 각 단어의 첫 글자를 대문자로 변경\n",
        "- strip(), rstrip(), lstrip() : 양쪽/오른쪽/왼쪽의 특정 문자를 제거\n",
        "- replace() : 문자열 특정 부분을 대체\n",
        "- split() : 구분자로 분할하여 리스트로 반환\n",
        "- dir(str) : str 메소드 모음"
      ],
      "metadata": {
        "id": "Y3xJJhSvILeH"
      }
    },
    {
      "cell_type": "code",
      "source": [
        "# str 메소드\n",
        "s = \"     Hello~ 안녕하세요. 감사합니다.     \"\n",
        "print(s.upper())\n",
        "print(s.title())\n",
        "print(s.strip())\n",
        "print(s.rstrip())\n",
        "print(s.lstrip())\n",
        "print(s.replace(\"l\", \"p\"))\n",
        "print(s.split())\n",
        "print(\"I love python\".upper())"
      ],
      "metadata": {
        "colab": {
          "base_uri": "https://localhost:8080/"
        },
        "id": "LA4CWYLoappH",
        "outputId": "7e11549b-6930-4e14-fe6d-b1c3ac77c05b"
      },
      "execution_count": null,
      "outputs": [
        {
          "output_type": "stream",
          "name": "stdout",
          "text": [
            "     HELLO~ 안녕하세요. 감사합니다.     \n",
            "     Hello~ 안녕하세요. 감사합니다.     \n",
            "Hello~ 안녕하세요. 감사합니다.\n",
            "     Hello~ 안녕하세요. 감사합니다.\n",
            "Hello~ 안녕하세요. 감사합니다.     \n",
            "     Heppo~ 안녕하세요. 감사합니다.     \n",
            "['Hello~', '안녕하세요.', '감사합니다.']\n",
            "I LOVE PYTHON\n"
          ]
        }
      ]
    },
    {
      "cell_type": "markdown",
      "source": [
        "**데이터 필드 감추기**\n",
        "- 데이터 은닉(data hiding)\n",
        "  - 데이터 필드의 직접 변경을 방지하기 위해 사용자의 직접적 접근을 차단\n",
        "  - public과 다른 private 데이터 필드로 정의\n",
        "- private 데이터 필드\n",
        "  - 클래스 내부에서만 접근 가능\n",
        "  - 앞 두 밑줄(&#95; &#95;)로 정의\n",
        "  - ex) self.&#95; &#95;r, self.&#95; &#95;h"
      ],
      "metadata": {
        "id": "E7SOCBHidgPu"
      }
    },
    {
      "cell_type": "markdown",
      "source": [
        "**접근자와 변경자**\n",
        "- private으로 정의된 데이터 필드는 객체 외부에서 접근 불가능\n",
        "- private 데이터 필드에 접근하는 메소드\n",
        "  - 접근자(accessor): 데이터 필드 반환 => 데이터 가져오기, getter와 같음\n",
        "  - 변경자(mutator): 데이터 필드 설정 => 데이터 설정하기, setter와 같음"
      ],
      "metadata": {
        "id": "7d5kjBvvfTrO"
      }
    },
    {
      "cell_type": "code",
      "source": [
        "# private 데이터 필드를 이용해 원뿔 부피와 겉넓이 구하는 클래스 개선하기\n",
        "class pCone :\n",
        "  def __init__(self, radius = 20, height = 30):\n",
        "    if radius > 0 and height > 0 :\n",
        "      self.__r = radius\n",
        "      self.__h = height\n",
        "\n",
        "  # 부피\n",
        "  def get_vol(self):\n",
        "    return 1/3 * 3.14 * self.__r ** 2 * self.__h\n",
        "\n",
        "  # 겉넓이\n",
        "  def get_surf(self):\n",
        "    return 3.14 * self.__r ** 2 + 3.14 * self.__r * self.__h\n",
        "\n",
        "  # 접근자\n",
        "  def get_radius(self):\n",
        "    return self.__r\n",
        "  def get_height(self):\n",
        "    return self.__h\n",
        "\n",
        "  # 변경자\n",
        "  def set_radius(self, radius):\n",
        "    if radius > 0 :\n",
        "      self.__r = radius\n",
        "  def set_height(self, height):\n",
        "    if height > 0 :\n",
        "      self.__r = height"
      ],
      "metadata": {
        "id": "rDP4sJZHc3s4"
      },
      "execution_count": null,
      "outputs": []
    },
    {
      "cell_type": "code",
      "source": [
        "perfect_cone = pCone(100, 200)\n",
        "print(perfect_cone.get_surf()) # 클래스 내부의 변수들을 private으로 만들었기 때문에 .뒤에 데이터 필드를 불러올 수 없게 됨\n",
        "\n",
        "# 따라서 접근자, 변경자를 통해 데이터를 다뤄야 함\n",
        "print(perfect_cone.get_radius()) # 접근자를 통해 반지름 데이터 가져오기\n",
        "perfect_cone.set_height(150) # 변경자를 통해 높이 데이터 변경하기\n",
        "print(perfect_cone.get_surf()) # 높이를 바꾼 후의 겉넓이"
      ],
      "metadata": {
        "colab": {
          "base_uri": "https://localhost:8080/"
        },
        "id": "1XkMnUjrhUU2",
        "outputId": "ed0a26f9-f150-4029-ba54-c962e859d90b"
      },
      "execution_count": null,
      "outputs": [
        {
          "output_type": "stream",
          "name": "stdout",
          "text": [
            "94200.0\n",
            "100\n",
            "164850.0\n"
          ]
        }
      ]
    },
    {
      "cell_type": "code",
      "source": [
        "# private 데이터 필드를 이용해 BMI 수치 및 상태를 반환하는 BMI 클래스 개선하기\n",
        "class pBMI:\n",
        "  def __init__(self, name = \"아무개\", age = 24, weight = 50, height = 170):\n",
        "    self.__n = name\n",
        "    self.__a = age\n",
        "    self.__w = weight\n",
        "    self.__h = height\n",
        "\n",
        "  # BMI 수치 반환\n",
        "  def get_BMI(self):\n",
        "    return self.__w / (self.__h * 0.01) ** 2\n",
        "\n",
        "  # BMI 상태 반환\n",
        "  def get_status(self):\n",
        "    bmi = self.get_BMI()\n",
        "    if bmi >= 25 :\n",
        "      return \"비만\"\n",
        "    elif bmi >= 23 and bmi < 25 :\n",
        "      return \"과체중\"\n",
        "    elif bmi >= 18.5 and bmi < 23 :\n",
        "      return \"정상\"\n",
        "    else :\n",
        "      return \"저체중\"\n",
        "\n",
        "  # 접근자\n",
        "  def get_name(self):\n",
        "    return self.__n\n",
        "  def get_age(self):\n",
        "    return self.__a\n",
        "  def get_weight(self):\n",
        "    return self.__w\n",
        "  def get_height(self):\n",
        "    return self.__h\n",
        "\n",
        "  # 변경자\n",
        "  def set_name(self, name):\n",
        "    self.__n = name\n",
        "  def set_age(self, age):\n",
        "    if age > 0:\n",
        "      self.__a = age\n",
        "  def set_weight(self, weight):\n",
        "    if weight > 0:\n",
        "      self.__w = weight\n",
        "  def set_height(self, height):\n",
        "    if height > 0:\n",
        "      self.__h = height"
      ],
      "metadata": {
        "id": "DmXeO9frgPv2"
      },
      "execution_count": null,
      "outputs": []
    },
    {
      "cell_type": "code",
      "source": [
        "perfect_bmi = pBMI(\"홍길동\", 25, 65, 175)\n",
        "print(perfect_bmi.get_weight())\n",
        "print(perfect_bmi.get_BMI())\n",
        "print(perfect_bmi.get_status())\n",
        "print(\"---------------------\")\n",
        "\n",
        "print(perfect_bmi.get_weight())\n",
        "perfect_bmi.set_weight(-50)\n",
        "print(perfect_bmi.get_weight()) # 몸무게를 음수로 변경했기 때문에 조건문을 충족하지 못해서 값이 바뀌지 않는다.\n",
        "print(\"---------------------\")\n",
        "\n",
        "perfect_bmi.set_weight(55)\n",
        "print(perfect_bmi.get_weight())\n",
        "print(perfect_bmi.get_BMI())\n",
        "print(perfect_bmi.get_status())"
      ],
      "metadata": {
        "colab": {
          "base_uri": "https://localhost:8080/"
        },
        "id": "ixHAlQJTmPEn",
        "outputId": "b1c4cc64-9a1e-4365-a5ce-7f10a4a84c33"
      },
      "execution_count": null,
      "outputs": [
        {
          "output_type": "stream",
          "name": "stdout",
          "text": [
            "65\n",
            "21.224489795918366\n",
            "정상\n",
            "---------------------\n",
            "65\n",
            "65\n",
            "---------------------\n",
            "55\n",
            "17.959183673469386\n",
            "저체중\n"
          ]
        }
      ]
    }
  ]
}