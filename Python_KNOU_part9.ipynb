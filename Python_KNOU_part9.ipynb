{
  "nbformat": 4,
  "nbformat_minor": 0,
  "metadata": {
    "colab": {
      "provenance": [],
      "authorship_tag": "ABX9TyNDMBd34AHRGCK8NcGbs/Nj",
      "include_colab_link": true
    },
    "kernelspec": {
      "name": "python3",
      "display_name": "Python 3"
    },
    "language_info": {
      "name": "python"
    }
  },
  "cells": [
    {
      "cell_type": "markdown",
      "metadata": {
        "id": "view-in-github",
        "colab_type": "text"
      },
      "source": [
        "<a href=\"https://colab.research.google.com/github/HYA6/Python_KNOU/blob/master/Python_KNOU_part9.ipynb\" target=\"_parent\"><img src=\"https://colab.research.google.com/assets/colab-badge.svg\" alt=\"Open In Colab\"/></a>"
      ]
    },
    {
      "cell_type": "markdown",
      "source": [
        "# **Python 수업 9강**"
      ],
      "metadata": {
        "id": "fZ7OhMHUlkeG"
      }
    },
    {
      "cell_type": "markdown",
      "source": [
        "## **함수**"
      ],
      "metadata": {
        "id": "hZabbrxdlZXp"
      }
    },
    {
      "cell_type": "markdown",
      "source": [
        "### **함수의 개념**<br/>\n",
        ": 특정 작업을 수행하는 명령문의 집합\n",
        "- 특정 작업을 함수의 이름으로 대체\n",
        "- 유사한 유형의 문제를 해결할 수 있도록 고려<br/>\n",
        "\n",
        "사용자 정의 함수\n",
        "- 내장 함수와 달리 사용자의 목적에 따라 정의된 함수 <br/>\n",
        "\n",
        "반환값에 따른 함수의 종류\n",
        "- 반환값이 없는 함수 : print\n",
        "- 반환값이 있는 함수 : input, format, int 등"
      ],
      "metadata": {
        "id": "n4xD0IeQmw6x"
      }
    },
    {
      "cell_type": "markdown",
      "source": [
        "---\n",
        "### **반환값이 없는 함수 정의**<br/>\n",
        "**구문 형식**<br/>\n",
        "def 함수이름(매개변수 리스트):<br/>\n",
        " 명령문<br/>\n",
        "- 함수 이름은 식별자\n",
        "- 매개변수 리스트는 0개 이상의 값을 함수 내부로 전달\n",
        "- 함수 내부에서 매개변수 리스트는 변수와 동일하게 사용"
      ],
      "metadata": {
        "id": "eKxyGSjyzRuY"
      }
    },
    {
      "cell_type": "code",
      "source": [
        "# 원뿔 계산 함수 정의\n",
        "def prt_cone_vol(r, h) :\n",
        "  if r > 0 and h > 0 :\n",
        "    # r, h 모두 양수일 때\n",
        "    vol = 1/3 * 3.14 * r ** 2 * h\n",
        "    print(\"원뿔의 부피는\", vol, \"입니다.\")\n",
        "  else :\n",
        "    # r, h 둘 중 하나라도 음수일 때\n",
        "    print(\"반지름과 높이 값에 양수를 입력하세요.\")\n",
        "\n",
        "# 반지름 30, 높이 50\n",
        "rad = 30\n",
        "hei = 50\n",
        "prt_cone_vol(rad, hei)"
      ],
      "metadata": {
        "colab": {
          "base_uri": "https://localhost:8080/"
        },
        "id": "tlZsqk5Pz9TO",
        "outputId": "40e805f5-8c08-44c2-a4ec-3637ad3c5672"
      },
      "execution_count": null,
      "outputs": [
        {
          "output_type": "stream",
          "name": "stdout",
          "text": [
            "원뿔의 부피는 47100.0 입니다.\n"
          ]
        }
      ]
    },
    {
      "cell_type": "code",
      "source": [
        "# 숫자 역순 출력 프로그램\n",
        "\n",
        "num = 1234\n",
        "digits = 34567\n",
        "\n",
        "def reverse_number(num) :\n",
        "  while num != 0 :\n",
        "    digit = num % 10\n",
        "    num //= 10\n",
        "    print(digit, end=\"\")\n",
        "\n",
        "reverse_number(digits)"
      ],
      "metadata": {
        "id": "tYLbPSy97vqp",
        "colab": {
          "base_uri": "https://localhost:8080/"
        },
        "outputId": "93c7bca7-824c-4fd5-bb73-873893b686b1"
      },
      "execution_count": 5,
      "outputs": [
        {
          "output_type": "stream",
          "name": "stdout",
          "text": [
            "76543"
          ]
        }
      ]
    },
    {
      "cell_type": "markdown",
      "source": [
        "---\n",
        "### **반환값이 있는 함수**<br/>\n",
        "**구문 형식**<br/>\n",
        "def 함수이름(매개변수 리스트):<br/>\n",
        " 명령문<br/>\n",
        " return 반환값 리스트<br/>\n",
        "- 실행 후 결과값을 남기는 함수\n",
        "- return 명령어와 반환값을 열거\n",
        "- 함수 내부에 여러 개의 return 사용 가능\n",
        "- 처음 return이 실행되면 그 뒤의 코드는 실행되지 않음"
      ],
      "metadata": {
        "id": "OwYCsHxuuSD9"
      }
    },
    {
      "cell_type": "markdown",
      "source": [
        "**format 함수** => 형식 지정자<br/>\n",
        " 형식 : >10.2f<br/>\n",
        " 의미<br/>\n",
        "  > : 정렬방향<br/>\n",
        "  10 : 필드 폭<br/>\n",
        "  .2 : 소수점 이하 자리수<br/>\n",
        "  f : 데이터 타입\n"
      ],
      "metadata": {
        "id": "RZO5gOziy3Hn"
      }
    },
    {
      "cell_type": "code",
      "source": [
        "# format 예제\n",
        "print(format(3.141592, \">10.2f\"))\n",
        "print(format(3.141592, \"<7.3f\"))"
      ],
      "metadata": {
        "colab": {
          "base_uri": "https://localhost:8080/"
        },
        "id": "rtxI2i1c0Drg",
        "outputId": "add9be50-38cb-44d8-e4e4-4ffcb8b81e68"
      },
      "execution_count": 13,
      "outputs": [
        {
          "output_type": "stream",
          "name": "stdout",
          "text": [
            "      3.14\n",
            "3.142  \n"
          ]
        }
      ]
    },
    {
      "cell_type": "code",
      "source": [
        "# 원뿔 계산 프로그램 개선(반환값이 있는 함수로 변경)\n",
        "def rtn_cone_vol(r, h) :\n",
        "  if r > 0 and h > 0 :\n",
        "    # r, h 모두 양수일 때\n",
        "    vol = 1/3 * 3.14 * r ** 2 * h\n",
        "    return vol\n",
        "  else :\n",
        "    # r, h 둘 중 하나라도 음수일 때\n",
        "    print(\"반지름과 높이 값에 양수를 입력하세요.\")\n",
        "\n",
        "print(\"원뿔의 부피는 \", format(rtn_cone_vol(10, 20), \"<.0f\"), \"입니다.\", sep=\"\")"
      ],
      "metadata": {
        "colab": {
          "base_uri": "https://localhost:8080/"
        },
        "id": "9v1W5Fhpu5MW",
        "outputId": "f0dbedd4-eb82-4468-81b0-069a0ae4cbd3"
      },
      "execution_count": 28,
      "outputs": [
        {
          "output_type": "stream",
          "name": "stdout",
          "text": [
            "원뿔의 부피는 2093입니다.\n"
          ]
        }
      ]
    },
    {
      "cell_type": "markdown",
      "source": [
        "\n",
        "**동시 할당의 개념**<br/>\n",
        ": 시퀀스의 개념을 사용하여 하나의 할당 연산자만으로 여러 값들을 한번에 전달한다.<br/>\n",
        "복수개의 변수에 값을 동시에 할당 -> 변수의 개수에 상응하는 값을 콤마(,)로 나열<br/>\n",
        "예시)<br/>\n",
        "temp = 27<br/>\n",
        "season = \"summer\"<br/>\n",
        "=> temp, season = 27, \"summer\""
      ],
      "metadata": {
        "id": "YjWm7nQf30KY"
      }
    },
    {
      "cell_type": "markdown",
      "source": [
        "**교환(swap)**<br/>\n",
        ": 복수 개의 변수에 할당하는 값을 맞바꿈<br/>\n",
        "예시)<br/>\n",
        "temp = hei<br/>\n",
        "hei = rad<br/>\n",
        "rad = temp<br/>\n",
        "=> rad, hei = hei, rad"
      ],
      "metadata": {
        "id": "MTwmBP3r49Gu"
      }
    },
    {
      "cell_type": "code",
      "source": [
        "# 원뿔 계산 프로그램 개선(부피와 겉넓이 모두 반환)\n",
        "def rtn_cone_vol_surf(r, h) :\n",
        "  if r > 0 and h > 0 :\n",
        "    # r, h 모두 양수일 때\n",
        "    vol = 1/3 * 3.14 * r ** 2 * h\n",
        "    surf = 3.14 * r ** 2 + 3.14 * r * h\n",
        "    return vol, surf\n",
        "  else :\n",
        "    # r, h 둘 중 하나라도 음수일 때\n",
        "    print(\"반지름과 높이 값에 양수를 입력하세요.\")\n",
        "\n",
        "# 반환값이 2개인 함수의 값을 각각 저장하고 싶으면 아래와 같이 변수 2개를 할당하면 된다.\n",
        "vol1, surf1 = rtn_cone_vol_surf(50, 100)\n",
        "print(\"원뿔의 부피는 \", format(vol1, \"<.0f\"), \"입니다.\", sep=\"\")\n",
        "print(\"원뿔의 겉넓이는 \", format(surf1, \"<.0f\"), \"입니다.\", sep=\"\")"
      ],
      "metadata": {
        "colab": {
          "base_uri": "https://localhost:8080/"
        },
        "id": "m-FY5gTb2d_2",
        "outputId": "34318b7b-9ec5-4913-ac6d-55eaa4b2a2d6"
      },
      "execution_count": 30,
      "outputs": [
        {
          "output_type": "stream",
          "name": "stdout",
          "text": [
            "원뿔의 부피는 261667입니다.\n",
            "원뿔의 겉넓이는 23550입니다.\n"
          ]
        }
      ]
    },
    {
      "cell_type": "code",
      "source": [
        "# 정렬 프로그램\n",
        "# 세 개의 사용자 입력을 오름차순으로 정렬하는 함수를 이용하여 정렬된 값을 출력하는 프로그램을 작성하시오.\n",
        "a = int(input(\"첫 번째 값을 입력하세요: \"))\n",
        "b = int(input(\"두 번째 값을 입력하세요: \"))\n",
        "c = int(input(\"세 번째 값을 입력하세요: \"))\n",
        "\n",
        "def sort(a, b, c) :\n",
        "  if a > b :\n",
        "    a, b = b, a\n",
        "  if a > c :\n",
        "    a, c = c, a\n",
        "  if b > c :\n",
        "    b, c = c, b\n",
        "  return a, b, c\n",
        "\n",
        "print(sort(a, b, c))\n",
        "print(\"출력 이후 :\", a, b, c) # 값에 의한 전달이므로 원래 값은 변하지 않는다."
      ],
      "metadata": {
        "colab": {
          "base_uri": "https://localhost:8080/"
        },
        "id": "tRRCsg8-6ZoP",
        "outputId": "7c33df60-e973-49b8-e37c-d29d9b82c234"
      },
      "execution_count": 36,
      "outputs": [
        {
          "output_type": "stream",
          "name": "stdout",
          "text": [
            "첫 번째 값을 입력하세요: 20\n",
            "두 번째 값을 입력하세요: 10\n",
            "세 번째 값을 입력하세요: 15\n",
            "(10, 15, 20)\n",
            "출력 이후 : 20 10 15\n"
          ]
        }
      ]
    },
    {
      "cell_type": "markdown",
      "source": [
        "**값의 전달**<br/>\n",
        ": 함수가 호출될 때, 값이 형식 매개변수에 전달"
      ],
      "metadata": {
        "id": "iSLVvL119UIv"
      }
    },
    {
      "cell_type": "markdown",
      "source": [
        "**변수의 스코프**<br/>\n",
        ": 프로그램에서 변수가 참도죌 수 있는 영역<br/>\n",
        "- 전역변수: 프로그램 전체 영역에서 접근 가능\n",
        "- 지역변수: 선언된 함수 내부에서만 접근 가능"
      ],
      "metadata": {
        "id": "aVqCMHp--bNH"
      }
    },
    {
      "cell_type": "code",
      "source": [
        "x = 1 # 여기서의 x는 전역변수\n",
        "print(\"x의 값은\", x)\n",
        "\n",
        "def inc(x): # 여기서의 x는 매개변수(지역변수)\n",
        "  x += 1\n",
        "  print(\"함수에 의한 x의 값은\", x)\n",
        "\n",
        "inc(x)\n",
        "print(\"함수 적용 후 x의 값은\", x) # 값이 매개변수에 복사될 뿐이지 값 자체가 바뀌지는 않는다."
      ],
      "metadata": {
        "colab": {
          "base_uri": "https://localhost:8080/"
        },
        "id": "dP6UHiq-9hoo",
        "outputId": "f92e4dcc-9417-46f1-c7dd-e8b6f02d6a2a"
      },
      "execution_count": 40,
      "outputs": [
        {
          "output_type": "stream",
          "name": "stdout",
          "text": [
            "x의 값은 1\n",
            "함수에 의한 x의 값은 2\n",
            "함수 적용 후 x의 값은 1\n"
          ]
        }
      ]
    },
    {
      "cell_type": "markdown",
      "source": [
        "**기본 매개변수**<br/>\n",
        ": 함수 호출 시 매개변수가 전달되지 않을 경우 기본값이 전달되는 매개변수<br/>\n",
        "예시) sep, end와 같이 기본값이 정해져 있는 변수<br/>\n",
        "구문 형식<br/>\n",
        " def 함수이름(매개변수 리스트, 매개변수=값 리스트):<br/>\n",
        "  명령문<br/>\n",
        "  return 반환값 리스트<br/>\n",
        "- 일반 매개변수 앞에 위치할 수 없음"
      ],
      "metadata": {
        "id": "g4Efnk8n_Rio"
      }
    },
    {
      "cell_type": "code",
      "source": [
        "# 원불 계산 프로그램 개선\n",
        "# 반지름은 10이고 높이가 1, 5, 14, 26, 31인 원뿔의 부피와 겉넓이를 각각 출력하시오.\n"
      ],
      "metadata": {
        "id": "d5TNhiMJAoKX"
      },
      "execution_count": null,
      "outputs": []
    },
    {
      "cell_type": "code",
      "source": [
        "# 원뿔 계산 프로그램 개선(단위 원뿔(반지름 20, 높이 30)을 기본으로 만들기)\n",
        "def rtn_cone_vol_surf(r, h) :\n",
        "  if r > 0 and h > 0 :\n",
        "    # r, h 모두 양수일 때\n",
        "    vol = 1/3 * 3.14 * r ** 2 * h\n",
        "    surf = 3.14 * r ** 2 + 3.14 * r * h\n",
        "    return vol, surf\n",
        "  else :\n",
        "    # r, h 둘 중 하나라도 음수일 때\n",
        "    print(\"반지름과 높이 값에 양수를 입력하세요.\")\n",
        "\n",
        "# 반환값이 2개인 함수의 값을 각각 저장하고 싶으면 아래와 같이 변수 2개를 할당하면 된다.\n",
        "vol1, surf1 = rtn_cone_vol_surf(50, 100)\n",
        "print(\"원뿔의 부피는 \", format(vol1, \"<.0f\"), \"입니다.\", sep=\"\")\n",
        "print(\"원뿔의 겉넓이는 \", format(surf1, \"<.0f\"), \"입니다.\", sep=\"\")"
      ],
      "metadata": {
        "id": "_oNhNyMc-3IY"
      },
      "execution_count": null,
      "outputs": []
    }
  ]
}