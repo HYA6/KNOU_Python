{
  "nbformat": 4,
  "nbformat_minor": 0,
  "metadata": {
    "colab": {
      "provenance": [],
      "authorship_tag": "ABX9TyOLOks6q6sGcCnuqo9c/3g7",
      "include_colab_link": true
    },
    "kernelspec": {
      "name": "python3",
      "display_name": "Python 3"
    },
    "language_info": {
      "name": "python"
    }
  },
  "cells": [
    {
      "cell_type": "markdown",
      "metadata": {
        "id": "view-in-github",
        "colab_type": "text"
      },
      "source": [
        "<a href=\"https://colab.research.google.com/github/HYA6/Python_KNOU/blob/master/Python_KNOU_part9.ipynb\" target=\"_parent\"><img src=\"https://colab.research.google.com/assets/colab-badge.svg\" alt=\"Open In Colab\"/></a>"
      ]
    },
    {
      "cell_type": "markdown",
      "source": [
        "# **Python 수업 9강**"
      ],
      "metadata": {
        "id": "fZ7OhMHUlkeG"
      }
    },
    {
      "cell_type": "markdown",
      "source": [
        "## **함수**"
      ],
      "metadata": {
        "id": "hZabbrxdlZXp"
      }
    },
    {
      "cell_type": "markdown",
      "source": [
        "### **함수의 개념**<br/>\n",
        ": 특정 작업을 수행하는 명령문의 집합\n",
        "- 특정 작업을 함수의 이름으로 대체\n",
        "- 유사한 유형의 문제를 해결할 수 있도록 고려<br/>\n",
        "\n",
        "사용자 정의 함수\n",
        "- 내장 함수와 달리 사용자의 목적에 따라 정의된 함수 <br/>\n",
        "\n",
        "반환값에 따른 함수의 종류\n",
        "- 반환값이 없는 함수 : print\n",
        "- 반환값이 있는 함수 : input, format, int 등"
      ],
      "metadata": {
        "id": "n4xD0IeQmw6x"
      }
    },
    {
      "cell_type": "markdown",
      "source": [
        "---\n",
        "### 반환값이 없는 함수 정의<br/>\n",
        "구문 형식<br/>\n",
        "def 함수이름(매개변수 리스트):<br/>\n",
        " 명령문<br/>\n",
        "- 함수 이름은 식별자\n",
        "- 매개변수 리스트는 0개 이상의 값을 함수 내부로 전달\n",
        "- 함수 내부에서 매개변수 리스트는 변수와 동일하게 사용"
      ],
      "metadata": {
        "id": "eKxyGSjyzRuY"
      }
    },
    {
      "cell_type": "code",
      "source": [
        "# 원뿔 계산 함수 정의\n",
        "def prt_cone_vol(r, h) :\n",
        "  if r > 0 and h > 0 :\n",
        "    # r, h 모두 양수일 때\n",
        "    vol = 1/3 * 3.14 * r ** 2 * h\n",
        "    print(\"원뿔의 부피는\", vol, \"입니다.\")\n",
        "  else :\n",
        "    # r, h 둘 중 하나라도 음수일 때\n",
        "    print(\"반지름과 높이 값에 양수를 입력하세요.\")\n",
        "\n",
        "# 반지름 30, 높이 50\n",
        "rad = 30\n",
        "hei = 50\n",
        "prt_cone_vol(rad, hei)"
      ],
      "metadata": {
        "colab": {
          "base_uri": "https://localhost:8080/"
        },
        "id": "tlZsqk5Pz9TO",
        "outputId": "40e805f5-8c08-44c2-a4ec-3637ad3c5672"
      },
      "execution_count": 4,
      "outputs": [
        {
          "output_type": "stream",
          "name": "stdout",
          "text": [
            "원뿔의 부피는 47100.0 입니다.\n"
          ]
        }
      ]
    },
    {
      "cell_type": "code",
      "source": [
        "# 숫자 역순 출력 프로그램"
      ],
      "metadata": {
        "id": "tYLbPSy97vqp"
      },
      "execution_count": null,
      "outputs": []
    }
  ]
}