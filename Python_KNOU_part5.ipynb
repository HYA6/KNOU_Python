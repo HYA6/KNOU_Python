{
  "nbformat": 4,
  "nbformat_minor": 0,
  "metadata": {
    "colab": {
      "provenance": [],
      "authorship_tag": "ABX9TyPaLlxsrPVVFQ/ShxDUO7Uk",
      "include_colab_link": true
    },
    "kernelspec": {
      "name": "python3",
      "display_name": "Python 3"
    },
    "language_info": {
      "name": "python"
    }
  },
  "cells": [
    {
      "cell_type": "markdown",
      "metadata": {
        "id": "view-in-github",
        "colab_type": "text"
      },
      "source": [
        "<a href=\"https://colab.research.google.com/github/HYA6/Python_KNOU/blob/master/Python_KNOU_part5.ipynb\" target=\"_parent\"><img src=\"https://colab.research.google.com/assets/colab-badge.svg\" alt=\"Open In Colab\"/></a>"
      ]
    },
    {
      "cell_type": "markdown",
      "source": [
        "# **Python 수업 5강**"
      ],
      "metadata": {
        "id": "KDawB-y9v2DW"
      }
    },
    {
      "cell_type": "markdown",
      "source": [
        "## **순차 구조**"
      ],
      "metadata": {
        "id": "q7p5KABSv7-c"
      }
    },
    {
      "cell_type": "markdown",
      "source": [
        "---\n",
        "### 삼각형 출력하기"
      ],
      "metadata": {
        "id": "0q_DULE9wB7c"
      }
    },
    {
      "cell_type": "code",
      "execution_count": null,
      "metadata": {
        "colab": {
          "base_uri": "https://localhost:8080/"
        },
        "id": "k140sjQ4ajWS",
        "outputId": "59351aaf-4c5a-4a62-fc71-2fbbdc905c68"
      },
      "outputs": [
        {
          "output_type": "stream",
          "name": "stdout",
          "text": [
            "   *   \n",
            "  ***  \n",
            " ***** \n",
            "*******\n"
          ]
        }
      ],
      "source": [
        "print(\"   *   \")\n",
        "print(\"  ***  \")\n",
        "print(\" ***** \")\n",
        "print(\"*******\")"
      ]
    },
    {
      "cell_type": "markdown",
      "source": [
        "---\n",
        "### input()"
      ],
      "metadata": {
        "id": "_-oRWDUfEwrq"
      }
    },
    {
      "cell_type": "code",
      "source": [
        "# 사용자 입력 => 문자형으로 들어온다.\n",
        "# input(\"내용 입력\")\n",
        "\n",
        "rad = input(\"반지름의 값을 입력하세요: \")\n",
        "print(rad)\n",
        "print(type(rad))"
      ],
      "metadata": {
        "colab": {
          "base_uri": "https://localhost:8080/"
        },
        "id": "ezQ32BvpwsWE",
        "outputId": "8052b340-7ca6-4d28-925f-fe4f0d2c0aa9"
      },
      "execution_count": null,
      "outputs": [
        {
          "output_type": "stream",
          "name": "stdout",
          "text": [
            "반지름의 값을 입력하세요: 30\n",
            "30\n",
            "<class 'str'>\n"
          ]
        }
      ]
    },
    {
      "cell_type": "markdown",
      "source": [
        "---\n",
        "### 원뿔 부피와 겉넓이 계산"
      ],
      "metadata": {
        "id": "pNhzOiIAD3p9"
      }
    },
    {
      "cell_type": "code",
      "source": [
        "# 데이터 타입 변환\n",
        "# -> 문자열 : str\n",
        "# -> 정수 : int\n",
        "# -> 소수 : float\n",
        "\n",
        "#반지름 사용자 입력\n",
        "rad = int(input(\"반지름을 입력하세요:\"))\n",
        "\n",
        "#높이 사용자 입력\n",
        "hei = int(input(\"높이를 입력하세요:\"))\n",
        "print(\"=========================\")\n",
        "\n",
        "#부피 계산\n",
        "vol = 1/3 * 3.14 * rad ** 2 * hei\n",
        "print(vol)\n",
        "print(\"부피의 값은\", vol, \"입니다.\")\n",
        "\n",
        "#겉넓이 계산\n",
        "suf = 3.14 * rad ** 2 + 3.14 * rad * hei\n",
        "print(suf)\n",
        "print(\"겉넓이의 값은\", suf, \"입니다.\", sep=\"\") # sep : 데이터 사이의 입력값 지정"
      ],
      "metadata": {
        "colab": {
          "base_uri": "https://localhost:8080/"
        },
        "id": "uz6Eo9gFzZ3t",
        "outputId": "e08faa5f-d311-43df-e5a6-879cb461ddb9"
      },
      "execution_count": null,
      "outputs": [
        {
          "output_type": "stream",
          "name": "stdout",
          "text": [
            "반지름을 입력하세요:30\n",
            "높이를 입력하세요:20\n",
            "=========================\n",
            "18840.0\n",
            "부피의 값은 18840.0 입니다.\n",
            "4710.0\n",
            "겉넓이의 값은18840.0입니다.\n"
          ]
        }
      ]
    }
  ]
}