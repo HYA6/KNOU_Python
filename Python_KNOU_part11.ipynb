{
  "nbformat": 4,
  "nbformat_minor": 0,
  "metadata": {
    "colab": {
      "provenance": [],
      "authorship_tag": "ABX9TyMpEdrCpPlwB9KuSAEMeuLJ",
      "include_colab_link": true
    },
    "kernelspec": {
      "name": "python3",
      "display_name": "Python 3"
    },
    "language_info": {
      "name": "python"
    }
  },
  "cells": [
    {
      "cell_type": "markdown",
      "metadata": {
        "id": "view-in-github",
        "colab_type": "text"
      },
      "source": [
        "<a href=\"https://colab.research.google.com/github/HYA6/Python_KNOU/blob/master/Python_KNOU_part11.ipynb\" target=\"_parent\"><img src=\"https://colab.research.google.com/assets/colab-badge.svg\" alt=\"Open In Colab\"/></a>"
      ]
    },
    {
      "cell_type": "markdown",
      "source": [
        "# **Python 수업 11강**"
      ],
      "metadata": {
        "id": "g7UOGr08_QDf"
      }
    },
    {
      "cell_type": "markdown",
      "source": [
        "## **모듈**"
      ],
      "metadata": {
        "id": "ETLqLn-L_Z28"
      }
    },
    {
      "cell_type": "markdown",
      "source": [
        "---\n",
        "### **1. 모듈의 이해**"
      ],
      "metadata": {
        "id": "fwRAa8Q5_c3V"
      }
    },
    {
      "cell_type": "markdown",
      "source": [
        "**모듈의 개념**\n",
        "- 함수, 상수 또는 클래스를 모아 놓은 집합체\n",
        "  - 클래스 : 다른 모듈의 확장\n",
        "  - 함수 : 특정 작업을 처리\n",
        "  - 상수(변수) : 불변의 값\n",
        "<br/><br/>\n",
        "\n",
        "<img src=\"https://drive.google.com/uc?id=1alG33OYWA_8fxbdY0x2mDXxszjangQwK\" height=\"250\"><br/>\n",
        "- 모듈 : 클래스, 함수. 상수의 집합\n",
        "- 패키지 : 하위 패키지 및 모듈의 집합\n",
        "- 라이브러리 : 패키지 및 모듈의 집합\n"
      ],
      "metadata": {
        "id": "spInScANEqUG"
      }
    },
    {
      "cell_type": "markdown",
      "source": [
        "**모듈의 등록 1**\n",
        "- 구문 형식<br/>\n",
        "import 모듈이름[as별칭]\n",
        "  - 파이썬 모듈을 프로그램 내부에서 사용할 수 있게 네임스페이스에 추가하는 명령어\n",
        "    - 모듈이름/별칭.변수\n",
        "    - 모듈이름/별칭.함수()\n",
        "    - 모듈이름/별칭.클래스\n",
        "\n",
        "**모듈의 등록 2**\n",
        "- 구문 형식<br/>\n",
        "from 모듈이름 import 메소드1,[메소드2/함수/클래스...]<br/>\n",
        "from 모듈이름 import * => 전체\n",
        "  - 모듈 이름 없이 변수, 함수, 클래스를 사용\n",
        "    - 변수\n",
        "    - 함수()\n",
        "    - 클래스\n",
        "\n",
        "**모듈의 등록 확인**\n",
        "- dir() : 네임스페이스에 등록되어 있는 모든 이름들을 리스트로 반환\n",
        "  - 예시) dir(), dir(math) -> math import 필요\n",
        "- help() : 대화형 도움말 시스템 호출 또는 클래스나 메소드의 사용방법 반환\n",
        "  - 예시) help(math.abs), help(\"python\".upper)"
      ],
      "metadata": {
        "id": "HgyIlx_9QGbN"
      }
    },
    {
      "cell_type": "code",
      "source": [
        "import math\n",
        "dir(math)"
      ],
      "metadata": {
        "colab": {
          "base_uri": "https://localhost:8080/"
        },
        "id": "CMIpufqCSnrN",
        "outputId": "28e059f3-c5c7-4873-b21d-25bbaaf13f96"
      },
      "execution_count": 12,
      "outputs": [
        {
          "output_type": "execute_result",
          "data": {
            "text/plain": [
              "['__doc__',\n",
              " '__loader__',\n",
              " '__name__',\n",
              " '__package__',\n",
              " '__spec__',\n",
              " 'acos',\n",
              " 'acosh',\n",
              " 'asin',\n",
              " 'asinh',\n",
              " 'atan',\n",
              " 'atan2',\n",
              " 'atanh',\n",
              " 'ceil',\n",
              " 'comb',\n",
              " 'copysign',\n",
              " 'cos',\n",
              " 'cosh',\n",
              " 'degrees',\n",
              " 'dist',\n",
              " 'e',\n",
              " 'erf',\n",
              " 'erfc',\n",
              " 'exp',\n",
              " 'expm1',\n",
              " 'fabs',\n",
              " 'factorial',\n",
              " 'floor',\n",
              " 'fmod',\n",
              " 'frexp',\n",
              " 'fsum',\n",
              " 'gamma',\n",
              " 'gcd',\n",
              " 'hypot',\n",
              " 'inf',\n",
              " 'isclose',\n",
              " 'isfinite',\n",
              " 'isinf',\n",
              " 'isnan',\n",
              " 'isqrt',\n",
              " 'lcm',\n",
              " 'ldexp',\n",
              " 'lgamma',\n",
              " 'log',\n",
              " 'log10',\n",
              " 'log1p',\n",
              " 'log2',\n",
              " 'modf',\n",
              " 'nan',\n",
              " 'nextafter',\n",
              " 'perm',\n",
              " 'pi',\n",
              " 'pow',\n",
              " 'prod',\n",
              " 'radians',\n",
              " 'remainder',\n",
              " 'sin',\n",
              " 'sinh',\n",
              " 'sqrt',\n",
              " 'tan',\n",
              " 'tanh',\n",
              " 'tau',\n",
              " 'trunc',\n",
              " 'ulp']"
            ]
          },
          "metadata": {},
          "execution_count": 12
        }
      ]
    },
    {
      "cell_type": "code",
      "source": [
        "help(math.gamma)"
      ],
      "metadata": {
        "colab": {
          "base_uri": "https://localhost:8080/"
        },
        "id": "nsRpDfnCWMs1",
        "outputId": "8b00909f-bb87-4362-992a-4c25ac58a91a"
      },
      "execution_count": 14,
      "outputs": [
        {
          "output_type": "stream",
          "name": "stdout",
          "text": [
            "Help on built-in function gamma in module math:\n",
            "\n",
            "gamma(x, /)\n",
            "    Gamma function at x.\n",
            "\n"
          ]
        }
      ]
    },
    {
      "cell_type": "markdown",
      "source": [
        "**네임스페이스의 이해**\n",
        "- 특정 객체를 이름에 따라 구분할 수 있는 범위\n",
        "  - 지역 NS: 함수 또는 메소드 내의 이름 공간\n",
        "  - 전역 NS: 모듈 전체에서 통용되는 이름 공간\n",
        "  - 빌트인 NS: 모든 코드 범위"
      ],
      "metadata": {
        "id": "ll5LeDClUM2d"
      }
    },
    {
      "cell_type": "markdown",
      "source": [
        "**모듈의 제거**\n",
        "- 구문 형식<br/>\n",
        "del 등록된 모듈 이름\n",
        "  - 네임스페이스 내 모듈의 멤버 식별자 제거"
      ],
      "metadata": {
        "id": "TFdoxTAKVQQk"
      }
    },
    {
      "cell_type": "code",
      "source": [
        "del(math)"
      ],
      "metadata": {
        "id": "nWLuQsfrW4Ps"
      },
      "execution_count": 15,
      "outputs": []
    },
    {
      "cell_type": "code",
      "source": [
        "# math 모듈을 활용하여 원뿔 부피와 겉넓이 구하기\n",
        "import math\n",
        "class Cone :\n",
        "  def __init__(self, radius = 20, height = 30):\n",
        "    self.r = radius\n",
        "    self.h = height\n",
        "\n",
        "  # 부피\n",
        "  def get_vol(self):\n",
        "    return 1/3 * math.pi * self.r ** 2 * self.h\n",
        "\n",
        "  # 겉넓이\n",
        "  def get_surf(self):\n",
        "    return math.pi * self.r ** 2 + math.pi * self.r * self.h"
      ],
      "metadata": {
        "id": "C-jD9C9OV8Y1"
      },
      "execution_count": 17,
      "outputs": []
    },
    {
      "cell_type": "code",
      "source": [
        "print(Cone().get_surf())\n",
        "print(Cone().get_vol())"
      ],
      "metadata": {
        "colab": {
          "base_uri": "https://localhost:8080/"
        },
        "id": "bL29Vr3eXvy-",
        "outputId": "c610cd18-afc8-4293-9e68-089fe5a77838"
      },
      "execution_count": 22,
      "outputs": [
        {
          "output_type": "stream",
          "name": "stdout",
          "text": [
            "3141.5926535897934\n",
            "12566.370614359172\n"
          ]
        }
      ]
    },
    {
      "cell_type": "markdown",
      "source": [
        "---\n",
        "### 2. 유용한 모듈"
      ],
      "metadata": {
        "id": "GGSAAUcw_4Rt"
      }
    },
    {
      "cell_type": "markdown",
      "source": [
        "**math 모듈**\n",
        "- 수학적 계산 문제를 해결하기 위한 수학 함수 및 상수의 집합\n",
        "  - C 언어 표준에 정의된 수학적 계산 함수를 내장\n",
        "  - π, e와 같은 상수 제공\n",
        "  - 예시) math.gcd(6, 8), math.factorial(5), math.e, dir(math)<br/>\n",
        "  <img src=\"https://drive.google.com/uc?id=1NH_J59sBjOrKJgzYb8he976QIFHoK26m\" height=\"300\"><br/>"
      ],
      "metadata": {
        "id": "g-mRticZYrsl"
      }
    },
    {
      "cell_type": "code",
      "source": [
        "# 삼각형 넓이 계산 프로그램\n",
        "# 두 변의 길이 a,b와 끼인각 a인 삼각형의 넓이를 구하는 프로그램을 작성하시오\n",
        "# 넓이 = 1 / 2 * a * b * sinα\n",
        "\n",
        "# import math\n",
        "from math import sin\n",
        "from math import radians\n",
        "\n",
        "a, b = 10, 20\n",
        "\n",
        "# area = 1 / 2 * a * b * math.sin(math.radians(60)) # 호도법(math.radians())으로 바꿔서 넣기\n",
        "area = 1 / 2 * a * b * sin(radians(60)) # 호도법(math.radians())으로 바꿔서 넣기\n",
        "\n",
        "print(area)"
      ],
      "metadata": {
        "colab": {
          "base_uri": "https://localhost:8080/"
        },
        "id": "L2I0Cukiaeav",
        "outputId": "6bb2a19e-b103-4062-b4f0-bcaea1ffb41b"
      },
      "execution_count": 27,
      "outputs": [
        {
          "output_type": "stream",
          "name": "stdout",
          "text": [
            "86.60254037844386\n"
          ]
        }
      ]
    },
    {
      "cell_type": "markdown",
      "source": [
        "**random 모듈**\n",
        "- 난수(random number): 특정한 배열 순서나 규칙적인 의미가 없는, 임의의 수를 의미\n",
        "- 난수 관련된 생성 기능을 제공하는 모듈\n",
        "  - 특정 범위의 난수를 발생\n",
        "  - 난수 발생기\n",
        "    - random number generator(RNG)\n",
        "    - 시드를 통해 첫 시작점이 중복이 되지 않도록 함<br/>\n",
        "<img src=\"https://drive.google.com/uc?id=1xq9ymsNHzKPP_OSpu952MNdLROET_hag\" height=\"300\"><br/>"
      ],
      "metadata": {
        "id": "QgeFPHmNbFUU"
      }
    },
    {
      "cell_type": "code",
      "source": [
        "# 가위-바위-보 게임\n",
        "import random\n",
        "\n",
        "options = [\"가위\", \"바위\", \"보\"]\n",
        "user = input(\"가위,바위,보 중 하나 입력: \") # 입력받기\n",
        "com = random.choice(options) # 컴퓨터가 고른 랜덤\n",
        "\n",
        "# 비긴 경우\n",
        "if user == com:\n",
        "  print(\"비겼다!\")\n",
        "# 이긴 경우\n",
        "elif user == \"바위\" and com == \"가위\":\n",
        "  print(\"이겼다!\")\n",
        "elif user == \"보\" and com == \"바위\":\n",
        "  print(\"이겼다!\")\n",
        "elif user == \"가위\" and com == \"보\":\n",
        "  print(\"이겼다!\")\n",
        "# 진 경우\n",
        "else:\n",
        "  print(\"졌다!\")"
      ],
      "metadata": {
        "colab": {
          "base_uri": "https://localhost:8080/"
        },
        "id": "885T52dQhhp-",
        "outputId": "88e52010-5496-481a-abf2-c0d4e0c958a0"
      },
      "execution_count": 31,
      "outputs": [
        {
          "output_type": "stream",
          "name": "stdout",
          "text": [
            "가위,바위,보 중 하나 입력: 바위\n",
            "이겼다!\n"
          ]
        }
      ]
    },
    {
      "cell_type": "code",
      "source": [
        "# 로또 추첨 프로그램\n",
        "# 1 ~ 45 숫자 6개를 입력 받아 당첨 숫자와 비교하는 프로그램을 작성하시오.\n",
        "import random\n",
        "\n",
        "# 숫자를 입력받아 리스트에 저장\n",
        "guess_str = input(\"1~45 번호 6개를 쉼표로 분리하여 입력하세요: \").replace(\" \", \"\").split(\",\")\n",
        "guess_list = list()\n",
        "\n",
        "for i in guess_str:\n",
        "  guess_list.append(int(i))\n",
        "\n",
        "# 당첨 숫자 6개 선택\n",
        "lotto_list = random.sample(range(1, 46, 1), 6)\n",
        "\n",
        "print(\"예상 번호는 \", guess_list, \"입니다.\")\n",
        "print(\"추첨 번호는 \", lotto_list, \"입니다.\")\n",
        "\n",
        "# 맞춘 횟수 계산\n",
        "hit_count = 0\n",
        "for guess in guess_list: # for문의 in\n",
        "  if guess in lotto_list: # 비교연산자로 사용된 in\n",
        "    hit_count += hit_count\n",
        "\n",
        "print(\"축하합니다\", str(hit_count), \"개 맞혔습니다.\")"
      ],
      "metadata": {
        "colab": {
          "base_uri": "https://localhost:8080/"
        },
        "id": "U0tPr07nhnQM",
        "outputId": "c1fbb98d-ba33-450c-e04f-3160c9bda34d"
      },
      "execution_count": 39,
      "outputs": [
        {
          "output_type": "stream",
          "name": "stdout",
          "text": [
            "1~45 번호 6개를 쉼표로 분리하여 입력하세요: 1, 2, 41, 34, 13, 23\n",
            "예상 번호는  [1, 2, 41, 34, 13, 23] 입니다.\n",
            "추첨 번호는  [28, 4, 6, 41, 40, 24] 입니다.\n",
            "축하합니다 0 개 맞혔습니다.\n"
          ]
        }
      ]
    },
    {
      "cell_type": "code",
      "source": [
        "# 스무고개 프로그램\n",
        "# 20번의 기회 안에 1 ~ 1000 사이의 숫자를 맞히는 스무고개 프로그램을 작성하시오.\n",
        "import random\n",
        "\n",
        "hit_number = random.randint(1, 1001) # 정답\n",
        "\n",
        "guess_count_list = range(1, 21, 1) # 시도 횟수\n",
        "\n",
        "# 맞출 때까지 반복 (최대 20번)\n",
        "for guess_count in guess_count_list:\n",
        "  guess = int(input(\"숫자를 맞혀보세요(\" + str(guess_count) + \"번째 시도): \")) # 입력받기\n",
        "  # 숫자 비교\n",
        "  if hit_number == guess:\n",
        "    passfail = True\n",
        "    break\n",
        "  elif hit_number > guess:\n",
        "    print(str(guess), \"보다 큽니다.\", end=\"\\n\")\n",
        "  else:\n",
        "    print(str(guess), \"보다 작습니다.\", end=\"\\n\")\n",
        "\n",
        "# 결과\n",
        "if passfail == True:\n",
        "  print(\"맞췄습니다. 축하합니다.\")\n",
        "else:\n",
        "  print(\"모든 기회를 다 사용하셨습니다. 다음에 다시 도전하세요.\")"
      ],
      "metadata": {
        "colab": {
          "base_uri": "https://localhost:8080/"
        },
        "id": "_R9At1q-iF8-",
        "outputId": "991d1546-543e-41d1-c020-9d0bb3cf4e5e"
      },
      "execution_count": 51,
      "outputs": [
        {
          "output_type": "stream",
          "name": "stdout",
          "text": [
            "숫자를 맞혀보세요(1번째 시도): 500\n",
            "500 보다 작습니다.\n",
            "숫자를 맞혀보세요(2번째 시도): 300\n",
            "300 보다 작습니다.\n",
            "숫자를 맞혀보세요(3번째 시도): 100\n",
            "100 보다 작습니다.\n",
            "숫자를 맞혀보세요(4번째 시도): 50\n",
            "50 보다 작습니다.\n",
            "숫자를 맞혀보세요(5번째 시도): 30\n",
            "30 보다 큽니다.\n",
            "숫자를 맞혀보세요(6번째 시도): 42\n",
            "맞췄습니다. 축하합니다.\n"
          ]
        }
      ]
    },
    {
      "cell_type": "markdown",
      "source": [
        "**time 모듈**\n",
        "- 에포크 시간을 얻어 다양한 형식으로 표시하는 기능 제공\n",
        "- 유닉스 에포크 : 1970년 1월 1일\n",
        "<br/>\n",
        "<img src=\"https://drive.google.com/uc?id=19qJhKFWLpwVWDJvk9JcD0oJA1Z64w76y\" height=\"300\"><br/>"
      ],
      "metadata": {
        "id": "PYCZTBM6iL0S"
      }
    },
    {
      "cell_type": "code",
      "source": [
        "# 소수 찾기 프로그램\n",
        "# 1 ~ 1000 사이에 소수를 찾고 실행 시간을 출력하는 프로그램을 작성하시오.\n",
        "import time\n",
        "\n",
        "start_time = time.time()\n",
        "\n",
        "# 소수 확인 함수\n",
        "def is_prime(x):\n",
        "  for i in range(2, x):\n",
        "    if x % i == 0:\n",
        "      return False\n",
        "  return True\n",
        "\n",
        "prime_count = 0\n",
        "\n",
        "# 소수 출력\n",
        "for i in range(2, 5001):\n",
        "  if is_prime(i):\n",
        "    prime_count += prime_count\n",
        "    print(i, end=\", \")\n",
        "\n",
        "# 실행 시간\n",
        "end_time = time.time()\n",
        "print(\"\\n\", str(end_time - start_time), \"초 실행했습니다.\")"
      ],
      "metadata": {
        "colab": {
          "base_uri": "https://localhost:8080/"
        },
        "id": "dxZCMDMJEzum",
        "outputId": "2552f17c-0aeb-4c79-c274-bc62627dd678"
      },
      "execution_count": 53,
      "outputs": [
        {
          "output_type": "stream",
          "name": "stdout",
          "text": [
            "2, 3, 5, 7, 11, 13, 17, 19, 23, 29, 31, 37, 41, 43, 47, 53, 59, 61, 67, 71, 73, 79, 83, 89, 97, 101, 103, 107, 109, 113, 127, 131, 137, 139, 149, 151, 157, 163, 167, 173, 179, 181, 191, 193, 197, 199, 211, 223, 227, 229, 233, 239, 241, 251, 257, 263, 269, 271, 277, 281, 283, 293, 307, 311, 313, 317, 331, 337, 347, 349, 353, 359, 367, 373, 379, 383, 389, 397, 401, 409, 419, 421, 431, 433, 439, 443, 449, 457, 461, 463, 467, 479, 487, 491, 499, 503, 509, 521, 523, 541, 547, 557, 563, 569, 571, 577, 587, 593, 599, 601, 607, 613, 617, 619, 631, 641, 643, 647, 653, 659, 661, 673, 677, 683, 691, 701, 709, 719, 727, 733, 739, 743, 751, 757, 761, 769, 773, 787, 797, 809, 811, 821, 823, 827, 829, 839, 853, 857, 859, 863, 877, 881, 883, 887, 907, 911, 919, 929, 937, 941, 947, 953, 967, 971, 977, 983, 991, 997, 1009, 1013, 1019, 1021, 1031, 1033, 1039, 1049, 1051, 1061, 1063, 1069, 1087, 1091, 1093, 1097, 1103, 1109, 1117, 1123, 1129, 1151, 1153, 1163, 1171, 1181, 1187, 1193, 1201, 1213, 1217, 1223, 1229, 1231, 1237, 1249, 1259, 1277, 1279, 1283, 1289, 1291, 1297, 1301, 1303, 1307, 1319, 1321, 1327, 1361, 1367, 1373, 1381, 1399, 1409, 1423, 1427, 1429, 1433, 1439, 1447, 1451, 1453, 1459, 1471, 1481, 1483, 1487, 1489, 1493, 1499, 1511, 1523, 1531, 1543, 1549, 1553, 1559, 1567, 1571, 1579, 1583, 1597, 1601, 1607, 1609, 1613, 1619, 1621, 1627, 1637, 1657, 1663, 1667, 1669, 1693, 1697, 1699, 1709, 1721, 1723, 1733, 1741, 1747, 1753, 1759, 1777, 1783, 1787, 1789, 1801, 1811, 1823, 1831, 1847, 1861, 1867, 1871, 1873, 1877, 1879, 1889, 1901, 1907, 1913, 1931, 1933, 1949, 1951, 1973, 1979, 1987, 1993, 1997, 1999, 2003, 2011, 2017, 2027, 2029, 2039, 2053, 2063, 2069, 2081, 2083, 2087, 2089, 2099, 2111, 2113, 2129, 2131, 2137, 2141, 2143, 2153, 2161, 2179, 2203, 2207, 2213, 2221, 2237, 2239, 2243, 2251, 2267, 2269, 2273, 2281, 2287, 2293, 2297, 2309, 2311, 2333, 2339, 2341, 2347, 2351, 2357, 2371, 2377, 2381, 2383, 2389, 2393, 2399, 2411, 2417, 2423, 2437, 2441, 2447, 2459, 2467, 2473, 2477, 2503, 2521, 2531, 2539, 2543, 2549, 2551, 2557, 2579, 2591, 2593, 2609, 2617, 2621, 2633, 2647, 2657, 2659, 2663, 2671, 2677, 2683, 2687, 2689, 2693, 2699, 2707, 2711, 2713, 2719, 2729, 2731, 2741, 2749, 2753, 2767, 2777, 2789, 2791, 2797, 2801, 2803, 2819, 2833, 2837, 2843, 2851, 2857, 2861, 2879, 2887, 2897, 2903, 2909, 2917, 2927, 2939, 2953, 2957, 2963, 2969, 2971, 2999, 3001, 3011, 3019, 3023, 3037, 3041, 3049, 3061, 3067, 3079, 3083, 3089, 3109, 3119, 3121, 3137, 3163, 3167, 3169, 3181, 3187, 3191, 3203, 3209, 3217, 3221, 3229, 3251, 3253, 3257, 3259, 3271, 3299, 3301, 3307, 3313, 3319, 3323, 3329, 3331, 3343, 3347, 3359, 3361, 3371, 3373, 3389, 3391, 3407, 3413, 3433, 3449, 3457, 3461, 3463, 3467, 3469, 3491, 3499, 3511, 3517, 3527, 3529, 3533, 3539, 3541, 3547, 3557, 3559, 3571, 3581, 3583, 3593, 3607, 3613, 3617, 3623, 3631, 3637, 3643, 3659, 3671, 3673, 3677, 3691, 3697, 3701, 3709, 3719, 3727, 3733, 3739, 3761, 3767, 3769, 3779, 3793, 3797, 3803, 3821, 3823, 3833, 3847, 3851, 3853, 3863, 3877, 3881, 3889, 3907, 3911, 3917, 3919, 3923, 3929, 3931, 3943, 3947, 3967, 3989, 4001, 4003, 4007, 4013, 4019, 4021, 4027, 4049, 4051, 4057, 4073, 4079, 4091, 4093, 4099, 4111, 4127, 4129, 4133, 4139, 4153, 4157, 4159, 4177, 4201, 4211, 4217, 4219, 4229, 4231, 4241, 4243, 4253, 4259, 4261, 4271, 4273, 4283, 4289, 4297, 4327, 4337, 4339, 4349, 4357, 4363, 4373, 4391, 4397, 4409, 4421, 4423, 4441, 4447, 4451, 4457, 4463, 4481, 4483, 4493, 4507, 4513, 4517, 4519, 4523, 4547, 4549, 4561, 4567, 4583, 4591, 4597, 4603, 4621, 4637, 4639, 4643, 4649, 4651, 4657, 4663, 4673, 4679, 4691, 4703, 4721, 4723, 4729, 4733, 4751, 4759, 4783, 4787, 4789, 4793, 4799, 4801, 4813, 4817, 4831, 4861, 4871, 4877, 4889, 4903, 4909, 4919, 4931, 4933, 4937, 4943, 4951, 4957, 4967, 4969, 4973, 4987, 4993, 4999, \n",
            " 0.2895071506500244 초 실행했습니다.\n"
          ]
        }
      ]
    }
  ]
}