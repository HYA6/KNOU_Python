{
  "nbformat": 4,
  "nbformat_minor": 0,
  "metadata": {
    "colab": {
      "provenance": [],
      "authorship_tag": "ABX9TyO/XXpvb+NtKzcxWv7T8+di",
      "include_colab_link": true
    },
    "kernelspec": {
      "name": "python3",
      "display_name": "Python 3"
    },
    "language_info": {
      "name": "python"
    }
  },
  "cells": [
    {
      "cell_type": "markdown",
      "metadata": {
        "id": "view-in-github",
        "colab_type": "text"
      },
      "source": [
        "<a href=\"https://colab.research.google.com/github/HYA6/Python_KNOU/blob/master/Python_KNOU_part7.ipynb\" target=\"_parent\"><img src=\"https://colab.research.google.com/assets/colab-badge.svg\" alt=\"Open In Colab\"/></a>"
      ]
    },
    {
      "cell_type": "markdown",
      "source": [
        "# **Python 수업 7강**"
      ],
      "metadata": {
        "id": "Z97BSlXw__UX"
      }
    },
    {
      "cell_type": "markdown",
      "source": [
        "## **반복 구조**"
      ],
      "metadata": {
        "id": "BWZFwCfNAwA1"
      }
    },
    {
      "cell_type": "markdown",
      "source": [
        "---\n",
        "### 반복 출력 프로그램"
      ],
      "metadata": {
        "id": "gRUzh0MRA6zT"
      }
    },
    {
      "cell_type": "code",
      "source": [
        "# 메시지 저장\n",
        "msg = \"저는 파이썬을 잘 다룰 수 있습니다.\"\n",
        "\n",
        "# 5번 반복 출력\n",
        "count = 1\n",
        "while count <= 5 :\n",
        "  print(msg)\n",
        "  count = count + 1 # count 값 증가가 없으면 무한루프에 빠지게 된다.\n",
        "  # 파이썬의 경우 증감 기호가 없음"
      ],
      "metadata": {
        "colab": {
          "base_uri": "https://localhost:8080/"
        },
        "id": "1yUjDnRzBAAc",
        "outputId": "8bcdbc7f-1013-4de6-f60c-efdad72a00e8"
      },
      "execution_count": null,
      "outputs": [
        {
          "output_type": "stream",
          "name": "stdout",
          "text": [
            "저는 파이썬을 잘 다룰 수 있습니다.\n",
            "저는 파이썬을 잘 다룰 수 있습니다.\n",
            "저는 파이썬을 잘 다룰 수 있습니다.\n",
            "저는 파이썬을 잘 다룰 수 있습니다.\n",
            "저는 파이썬을 잘 다룰 수 있습니다.\n"
          ]
        }
      ]
    },
    {
      "cell_type": "markdown",
      "source": [
        "---\n",
        "### n까지 합 계산 프로그램"
      ],
      "metadata": {
        "id": "O7x1ieTaBjc-"
      }
    },
    {
      "cell_type": "code",
      "source": [
        "# n까지의 합 변수\n",
        "sum = 0\n",
        "# 순서를 나타내는 변수\n",
        "i = 1\n",
        "# n을 입력받는 변수\n",
        "last = int(input(\"어디까지 더할까요? : \"))\n",
        "\n",
        "# 합 출력\n",
        "while i <= last :\n",
        "  sum = sum + i\n",
        "  print(i, \"번째 합 :\", sum)\n",
        "  i = i + 1"
      ],
      "metadata": {
        "colab": {
          "base_uri": "https://localhost:8080/"
        },
        "id": "BXkgTLmdBpiG",
        "outputId": "fdc7d94c-be6e-43e8-c765-1b14d2319d77"
      },
      "execution_count": null,
      "outputs": [
        {
          "output_type": "stream",
          "name": "stdout",
          "text": [
            "어디까지 더할까요? : 5\n",
            "1 번째 합 : 1\n",
            "2 번째 합 : 3\n",
            "3 번째 합 : 6\n",
            "4 번째 합 : 10\n",
            "5 번째 합 : 15\n"
          ]
        }
      ]
    },
    {
      "cell_type": "markdown",
      "source": [
        "---\n",
        "### 구구단 프로그램"
      ],
      "metadata": {
        "id": "IgODCs0-GOJT"
      }
    },
    {
      "cell_type": "code",
      "source": [
        "# 출력할 단을 나타내는 변수\n",
        "num = int(input(\"출력할 단을 입력하세요 : \"))\n",
        "# 순서를 나타내는 변수\n",
        "i = 1\n",
        "\n",
        "# 구구단 출력\n",
        "while i <= 9 :\n",
        "  print(num, \"X\", i, \"=\", num * i)\n",
        "  i = i + 1"
      ],
      "metadata": {
        "colab": {
          "base_uri": "https://localhost:8080/"
        },
        "id": "9OSt7nmiGQvi",
        "outputId": "6508c0f8-a899-4cfd-a728-bfbea9ccf0e9"
      },
      "execution_count": null,
      "outputs": [
        {
          "output_type": "stream",
          "name": "stdout",
          "text": [
            "출력할 단을 입력하세요 : 5\n",
            "5 X 1 = 5\n",
            "5 X 2 = 10\n",
            "5 X 3 = 15\n",
            "5 X 4 = 20\n",
            "5 X 5 = 25\n",
            "5 X 6 = 30\n",
            "5 X 7 = 35\n",
            "5 X 8 = 40\n",
            "5 X 9 = 45\n"
          ]
        }
      ]
    },
    {
      "cell_type": "markdown",
      "source": [
        "---\n",
        "### **(1) 리스트**"
      ],
      "metadata": {
        "id": "RtNmkgMeII8h"
      }
    },
    {
      "cell_type": "code",
      "source": [
        "# 리스트 : 원소들의 순서를 표현\n",
        "# 리스트 변수 : 참조 변수\n",
        "# 리스트 변수의 값 : 리스트 객체\n",
        "\n",
        "# hei_list : 참조 변수, [] : 리스트 객체, [] 안의 원소 : 원소 시퀀스\n",
        "# 시퀀스 : 연속된 형태의 값\n",
        "hei_list = [1, 4, 14, 26, 31]\n",
        "body = [181, 78, \"dark brown\", \"black\"]\n",
        "print(hei_list, body)\n",
        "\n",
        "# 인덱스를 이용하여 원소 접근\n",
        "print(hei_list[4])\n",
        "\n",
        "# 인덱스를 이용하여 원소 수정\n",
        "hei_list[4] = 45\n",
        "print(hei_list[4])"
      ],
      "metadata": {
        "colab": {
          "base_uri": "https://localhost:8080/"
        },
        "id": "esXvYGE5IE9q",
        "outputId": "0daa7bc5-c316-4b1a-f451-496260673028"
      },
      "execution_count": null,
      "outputs": [
        {
          "output_type": "stream",
          "name": "stdout",
          "text": [
            "[1, 4, 14, 26, 31] [181, 78, 'dark brown', 'black']\n",
            "31\n",
            "45\n"
          ]
        }
      ]
    },
    {
      "cell_type": "code",
      "source": [
        "# for 문 이용 (계수 제어 반복)\n",
        "hei_list = [1, 4, 14, 26, 31]\n",
        "\n",
        "for hei in hei_list : # hei : 계수-제어-변수, hei_list: 시퀀스\n",
        "  print(hei)"
      ],
      "metadata": {
        "colab": {
          "base_uri": "https://localhost:8080/"
        },
        "id": "-LfeMzW4K_SA",
        "outputId": "d43673d1-9ef0-4bde-faa5-5994ee14069e"
      },
      "execution_count": null,
      "outputs": [
        {
          "output_type": "stream",
          "name": "stdout",
          "text": [
            "1\n",
            "4\n",
            "14\n",
            "26\n",
            "31\n"
          ]
        }
      ]
    },
    {
      "cell_type": "code",
      "source": [
        "# 원뿔 계산 프로그램\n",
        "# 반지름: 10, 높이 1, 5, 14, 26, 31\n",
        "rad = 10\n",
        "hei_list = [1, 5, 14, 26, 31]\n",
        "\n",
        "for hei in hei_list :\n",
        "  # 부피\n",
        "  print(\"반지름이 \", rad, \"이고, 높이가 \", hei, \"인 원뿔의 부피는 \",\n",
        "        1 / 3 * 3.14 * rad ** 2 * hei, \"이다.\", sep=\"\")\n",
        "  # 겉넓이\n",
        "  print(\"반지름이 \", rad, \"이고, 높이가 \", hei, \"인 원뿔의 겉넓이는 \",\n",
        "        3.14 * rad ** 2 + 3.14 * rad * hei, \"이다.\", sep=\"\")\n",
        "  print(\"--------------------------------------------------------------------\")"
      ],
      "metadata": {
        "colab": {
          "base_uri": "https://localhost:8080/"
        },
        "id": "D8kxQGumLfPf",
        "outputId": "a08dafff-07e3-45c5-a4c2-e519ab853392"
      },
      "execution_count": null,
      "outputs": [
        {
          "output_type": "stream",
          "name": "stdout",
          "text": [
            "반지름이 10이고, 높이가 1인 원뿔의 부피는 104.66666666666666이다.\n",
            "반지름이 10이고, 높이가 1인 원뿔의 겉넓이는 345.4이다.\n",
            "--------------------------------------------------------------------\n",
            "반지름이 10이고, 높이가 5인 원뿔의 부피는 523.3333333333333이다.\n",
            "반지름이 10이고, 높이가 5인 원뿔의 겉넓이는 471.0이다.\n",
            "--------------------------------------------------------------------\n",
            "반지름이 10이고, 높이가 14인 원뿔의 부피는 1465.3333333333333이다.\n",
            "반지름이 10이고, 높이가 14인 원뿔의 겉넓이는 753.6이다.\n",
            "--------------------------------------------------------------------\n",
            "반지름이 10이고, 높이가 26인 원뿔의 부피는 2721.333333333333이다.\n",
            "반지름이 10이고, 높이가 26인 원뿔의 겉넓이는 1130.4이다.\n",
            "--------------------------------------------------------------------\n",
            "반지름이 10이고, 높이가 31인 원뿔의 부피는 3244.6666666666665이다.\n",
            "반지름이 10이고, 높이가 31인 원뿔의 겉넓이는 1287.4이다.\n",
            "--------------------------------------------------------------------\n"
          ]
        }
      ]
    },
    {
      "cell_type": "code",
      "source": [
        "# 리스트 생성 자동화\n",
        "# range(a, b, k) : a부터 b보다 작은 값까지 k씩 증가시켜 시퀀스 생성\n",
        "# (a 생략 시 기본값 0, k 생략 시 기본값 1)\n",
        "range(1, 100, 1)\n",
        "rad_list = range(10, 40, 10)"
      ],
      "metadata": {
        "colab": {
          "base_uri": "https://localhost:8080/"
        },
        "id": "Mob7q_RhQO7M",
        "outputId": "e107733f-9284-4ed7-9e4e-5d494c5ec2ef"
      },
      "execution_count": null,
      "outputs": [
        {
          "output_type": "stream",
          "name": "stdout",
          "text": [
            "range(10, 40, 10)\n"
          ]
        }
      ]
    },
    {
      "cell_type": "code",
      "source": [
        "# 반복 출력 프로그램 개선\n",
        "# '저는 파이썬을 잘 다룰 수 있습니다'를 5번 출력하는 프로그램을 작성하시오.\n",
        "\n",
        "# 메시지 저장\n",
        "msg = \"저는 파이썬을 잘 다룰 수 있습니다.\"\n",
        "\n",
        "# 5번 반복 출력\n",
        "for count in range(5) : # range(1, 6)과 같음\n",
        "  print(msg)"
      ],
      "metadata": {
        "colab": {
          "base_uri": "https://localhost:8080/"
        },
        "id": "btE85YFAQkt9",
        "outputId": "70dad586-a776-4a58-c3d8-46a84c8fa3fa"
      },
      "execution_count": null,
      "outputs": [
        {
          "output_type": "stream",
          "name": "stdout",
          "text": [
            "저는 파이썬을 잘 다룰 수 있습니다.\n",
            "저는 파이썬을 잘 다룰 수 있습니다.\n",
            "저는 파이썬을 잘 다룰 수 있습니다.\n",
            "저는 파이썬을 잘 다룰 수 있습니다.\n",
            "저는 파이썬을 잘 다룰 수 있습니다.\n"
          ]
        }
      ]
    },
    {
      "cell_type": "code",
      "source": [
        "# zip 함수\n",
        "# 리스트가 2개 이상일 경우 사용 가능\n",
        "# 리스트끼리의 원소 개수가 같아야 함\n",
        "a_list = [1, 2, 3]\n",
        "b_list = [\"a\", \"b\", \"c\"]\n",
        "\n",
        "# 여러 리스트의 원소들을 하나의 변수를 이용하여 출력 => tuple 타입으로 묶어서 출력\n",
        "for i in zip(a_list, b_list) :\n",
        "  print(i)\n",
        "  print(type(i)) # <class 'tuple'>\n",
        "\n",
        "print(\"------------------------------------\")\n",
        "\n",
        "# 여러 리스트의 원소들을 각각의 변수를 이용하여 출력\n",
        "for i, j in zip(a_list, b_list) :\n",
        "  print(i, j)\n",
        "  print(type(i), type(j)) # <class 'int'> <class 'str'>"
      ],
      "metadata": {
        "colab": {
          "base_uri": "https://localhost:8080/"
        },
        "id": "ugva2D7tUpoM",
        "outputId": "ff17c7a3-4114-4608-ec49-9bd8c5f5a76e"
      },
      "execution_count": null,
      "outputs": [
        {
          "output_type": "stream",
          "name": "stdout",
          "text": [
            "(1, 'a')\n",
            "<class 'tuple'>\n",
            "(2, 'b')\n",
            "<class 'tuple'>\n",
            "(3, 'c')\n",
            "<class 'tuple'>\n",
            "------------------------------------\n",
            "1 a\n",
            "<class 'int'> <class 'str'>\n",
            "2 b\n",
            "<class 'int'> <class 'str'>\n",
            "3 c\n",
            "<class 'int'> <class 'str'>\n"
          ]
        }
      ]
    },
    {
      "cell_type": "code",
      "source": [
        "# 원뿔 프로그램 개선\n",
        "# (반지름, 높이) : (10, 1), (20, 5), (30, 14)인 원뿔의 부피와 겉넓이\n",
        "rad_list = range(10, 40, 10)\n",
        "hei_list = [1, 5, 14]\n",
        "\n",
        "# zip 함수 이용\n",
        "for rad, hei in zip(rad_list, hei_list) :\n",
        "  # 부피\n",
        "  print(\"반지름이 \", rad, \"이고, 높이가 \", hei, \"인 원뿔의 부피는 \",\n",
        "        1 / 3 * 3.14 * rad ** 2 * hei, \"이다.\", sep=\"\")\n",
        "  # 겉넓이\n",
        "  print(\"반지름이 \", rad, \"이고, 높이가 \", hei, \"인 원뿔의 겉넓이는 \",\n",
        "        3.14 * rad ** 2 + 3.14 * rad * hei, \"이다.\", sep=\"\")\n",
        "  print(\"--------------------------------------------------------------------\")"
      ],
      "metadata": {
        "colab": {
          "base_uri": "https://localhost:8080/"
        },
        "id": "t80s5yVfRtKA",
        "outputId": "71201593-f216-411d-8414-cec040269e4e"
      },
      "execution_count": 1,
      "outputs": [
        {
          "output_type": "stream",
          "name": "stdout",
          "text": [
            "반지름이 10이고, 높이가 1인 원뿔의 부피는 104.66666666666666이다.\n",
            "반지름이 10이고, 높이가 1인 원뿔의 겉넓이는 345.4이다.\n",
            "--------------------------------------------------------------------\n",
            "반지름이 20이고, 높이가 5인 원뿔의 부피는 2093.333333333333이다.\n",
            "반지름이 20이고, 높이가 5인 원뿔의 겉넓이는 1570.0이다.\n",
            "--------------------------------------------------------------------\n",
            "반지름이 30이고, 높이가 14인 원뿔의 부피는 13188.0이다.\n",
            "반지름이 30이고, 높이가 14인 원뿔의 겉넓이는 4144.8이다.\n",
            "--------------------------------------------------------------------\n"
          ]
        }
      ]
    },
    {
      "cell_type": "code",
      "source": [
        "# format 함수 : 데이터를 양식에 맞춰 형식화\n",
        "# 형식 : format(\"a\", \"b\")\n",
        "# a : 변경 대상 데이터, b : 형식 지정자\n",
        "\n",
        "# 형식 지정자 예시\n",
        "# >10s\n",
        "# > : 정렬방향, 10: 필드 폭, s: 데이터 타입(d: 정수, s: 문자열)\n",
        "\n",
        "print(format(\"구구단표\", \">10s\"))\n",
        "print(format(1234, \"<10d\"))"
      ],
      "metadata": {
        "colab": {
          "base_uri": "https://localhost:8080/"
        },
        "id": "vXzamkGUgO9e",
        "outputId": "a37f8c71-0462-4fbc-98a8-b6e799d587d6"
      },
      "execution_count": 5,
      "outputs": [
        {
          "output_type": "stream",
          "name": "stdout",
          "text": [
            "      구구단표\n",
            "1234      \n"
          ]
        }
      ]
    },
    {
      "cell_type": "code",
      "source": [
        "# 구구단표 출력\n",
        "\n",
        "# 제목\n",
        "print(format(\"구구단표\", \">20s\"))\n",
        "\n",
        "# 표 머리 출력\n",
        "print(\"  |\", end=\"\") # end 옵션 : 줄바꿈 삭제\n",
        "for j in range(1, 10):\n",
        "  print(\"  \", j, end=\"\")\n",
        "\n",
        "# 새로운 행 삽입\n",
        "print()\n",
        "print(\"----------------------------------------\")\n",
        "\n",
        "# 구구단표 출력\n",
        "for i in range(1, 10):\n",
        "  print(i, \"|\", end=\"\")\n",
        "  for j in range(1, 10):\n",
        "    print(format(i*j, \">4d\"), end=\"\")\n",
        "  print()"
      ],
      "metadata": {
        "colab": {
          "base_uri": "https://localhost:8080/"
        },
        "id": "DcM2zZCSe__b",
        "outputId": "6dbd7f23-ef17-4466-d864-54873f82667c"
      },
      "execution_count": 45,
      "outputs": [
        {
          "output_type": "stream",
          "name": "stdout",
          "text": [
            "                구구단표\n",
            "  |   1   2   3   4   5   6   7   8   9\n",
            "----------------------------------------\n",
            "1 |   1   2   3   4   5   6   7   8   9\n",
            "2 |   2   4   6   8  10  12  14  16  18\n",
            "3 |   3   6   9  12  15  18  21  24  27\n",
            "4 |   4   8  12  16  20  24  28  32  36\n",
            "5 |   5  10  15  20  25  30  35  40  45\n",
            "6 |   6  12  18  24  30  36  42  48  54\n",
            "7 |   7  14  21  28  35  42  49  56  63\n",
            "8 |   8  16  24  32  40  48  56  64  72\n",
            "9 |   9  18  27  36  45  54  63  72  81\n"
          ]
        }
      ]
    }
  ]
}