{
  "nbformat": 4,
  "nbformat_minor": 0,
  "metadata": {
    "colab": {
      "provenance": [],
      "authorship_tag": "ABX9TyPc34gs6aSvalQcqFy7kIMc",
      "include_colab_link": true
    },
    "kernelspec": {
      "name": "python3",
      "display_name": "Python 3"
    },
    "language_info": {
      "name": "python"
    }
  },
  "cells": [
    {
      "cell_type": "markdown",
      "metadata": {
        "id": "view-in-github",
        "colab_type": "text"
      },
      "source": [
        "<a href=\"https://colab.research.google.com/github/HYA6/Python_KNOU/blob/master/Python_KNOU_part7.ipynb\" target=\"_parent\"><img src=\"https://colab.research.google.com/assets/colab-badge.svg\" alt=\"Open In Colab\"/></a>"
      ]
    },
    {
      "cell_type": "markdown",
      "source": [
        "# **Python 수업 7강**"
      ],
      "metadata": {
        "id": "Z97BSlXw__UX"
      }
    },
    {
      "cell_type": "markdown",
      "source": [
        "## **반복 구조**"
      ],
      "metadata": {
        "id": "BWZFwCfNAwA1"
      }
    },
    {
      "cell_type": "markdown",
      "source": [
        "---\n",
        "### 반복 출력 프로그램"
      ],
      "metadata": {
        "id": "gRUzh0MRA6zT"
      }
    },
    {
      "cell_type": "code",
      "source": [
        "# 메시지 저장\n",
        "msg = \"저는 파이썬을 잘 다룰 수 있습니다.\"\n",
        "\n",
        "# 5번 반복 출력\n",
        "count = 1\n",
        "while count <= 5 :\n",
        "  print(msg)\n",
        "  count = count + 1 # count 값 증가가 없으면 무한루프에 빠지게 된다.\n",
        "  # 파이썬의 경우 증감 기호가 없음"
      ],
      "metadata": {
        "colab": {
          "base_uri": "https://localhost:8080/"
        },
        "id": "1yUjDnRzBAAc",
        "outputId": "8bcdbc7f-1013-4de6-f60c-efdad72a00e8"
      },
      "execution_count": 5,
      "outputs": [
        {
          "output_type": "stream",
          "name": "stdout",
          "text": [
            "저는 파이썬을 잘 다룰 수 있습니다.\n",
            "저는 파이썬을 잘 다룰 수 있습니다.\n",
            "저는 파이썬을 잘 다룰 수 있습니다.\n",
            "저는 파이썬을 잘 다룰 수 있습니다.\n",
            "저는 파이썬을 잘 다룰 수 있습니다.\n"
          ]
        }
      ]
    },
    {
      "cell_type": "markdown",
      "source": [
        "---\n",
        "### n까지 합 계산 프로그램"
      ],
      "metadata": {
        "id": "O7x1ieTaBjc-"
      }
    },
    {
      "cell_type": "code",
      "source": [
        "# n까지의 합 변수\n",
        "sum = 0\n",
        "# 순서를 나타내는 변수\n",
        "i = 1\n",
        "# n을 입력받는 변수\n",
        "last = int(input(\"어디까지 더할까요? : \"))\n",
        "\n",
        "# 합 출력\n",
        "while i <= last :\n",
        "  sum = sum + i\n",
        "  print(i, \"번째 합 :\", sum)\n",
        "  i = i + 1"
      ],
      "metadata": {
        "colab": {
          "base_uri": "https://localhost:8080/"
        },
        "id": "BXkgTLmdBpiG",
        "outputId": "fdc7d94c-be6e-43e8-c765-1b14d2319d77"
      },
      "execution_count": 13,
      "outputs": [
        {
          "output_type": "stream",
          "name": "stdout",
          "text": [
            "어디까지 더할까요? : 5\n",
            "1 번째 합 : 1\n",
            "2 번째 합 : 3\n",
            "3 번째 합 : 6\n",
            "4 번째 합 : 10\n",
            "5 번째 합 : 15\n"
          ]
        }
      ]
    },
    {
      "cell_type": "markdown",
      "source": [
        "---\n",
        "### 구구단 프로그램"
      ],
      "metadata": {
        "id": "IgODCs0-GOJT"
      }
    },
    {
      "cell_type": "code",
      "source": [
        "# 출력할 단을 나타내는 변수\n",
        "num = int(input(\"출력할 단을 입력하세요 : \"))\n",
        "# 순서를 나타내는 변수\n",
        "i = 1\n",
        "\n",
        "# 구구단 출력\n",
        "while i <= 9 :\n",
        "  print(num, \"X\", i, \"=\", num * i)\n",
        "  i = i + 1"
      ],
      "metadata": {
        "colab": {
          "base_uri": "https://localhost:8080/"
        },
        "id": "9OSt7nmiGQvi",
        "outputId": "6508c0f8-a899-4cfd-a728-bfbea9ccf0e9"
      },
      "execution_count": 4,
      "outputs": [
        {
          "output_type": "stream",
          "name": "stdout",
          "text": [
            "출력할 단을 입력하세요 : 5\n",
            "5 X 1 = 5\n",
            "5 X 2 = 10\n",
            "5 X 3 = 15\n",
            "5 X 4 = 20\n",
            "5 X 5 = 25\n",
            "5 X 6 = 30\n",
            "5 X 7 = 35\n",
            "5 X 8 = 40\n",
            "5 X 9 = 45\n"
          ]
        }
      ]
    },
    {
      "cell_type": "markdown",
      "source": [
        "---\n",
        "### **(1) 리스트**"
      ],
      "metadata": {
        "id": "RtNmkgMeII8h"
      }
    },
    {
      "cell_type": "code",
      "source": [
        "# 리스트 : 원소들의 순서를 표현\n",
        "# 리스트 변수 : 참조 변수\n",
        "# 리스트 변수의 값 : 리스트 객체\n",
        "\n",
        "# hei_list : 참조 변수, [] : 리스트 객체, [] 안의 원소 : 원소 시퀀스\n",
        "# 시퀀스 : 연속된 형태의 값\n",
        "hei_list = [1, 4, 14, 26, 31]\n",
        "body = [181, 78, \"dark brown\", \"black\"]\n",
        "print(hei_list, body)\n",
        "\n",
        "# 인덱스를 이용하여 원소 접근\n",
        "print(hei_list[4])\n",
        "\n",
        "# 인덱스를 이용하여 원소 수정\n",
        "hei_list[4] = 45\n",
        "print(hei_list[4])"
      ],
      "metadata": {
        "colab": {
          "base_uri": "https://localhost:8080/"
        },
        "id": "esXvYGE5IE9q",
        "outputId": "0daa7bc5-c316-4b1a-f451-496260673028"
      },
      "execution_count": 9,
      "outputs": [
        {
          "output_type": "stream",
          "name": "stdout",
          "text": [
            "[1, 4, 14, 26, 31] [181, 78, 'dark brown', 'black']\n",
            "31\n",
            "45\n"
          ]
        }
      ]
    },
    {
      "cell_type": "code",
      "source": [
        "# for 문 이용 (계수 제어 반복)\n",
        "hei_list = [1, 4, 14, 26, 31]\n",
        "\n",
        "for hei in hei_list : # hei : 계수-제어-변수, hei_list: 시퀀스\n",
        "  print(hei)"
      ],
      "metadata": {
        "colab": {
          "base_uri": "https://localhost:8080/"
        },
        "id": "-LfeMzW4K_SA",
        "outputId": "d43673d1-9ef0-4bde-faa5-5994ee14069e"
      },
      "execution_count": 11,
      "outputs": [
        {
          "output_type": "stream",
          "name": "stdout",
          "text": [
            "1\n",
            "4\n",
            "14\n",
            "26\n",
            "31\n"
          ]
        }
      ]
    },
    {
      "cell_type": "code",
      "source": [
        "# 원뿔 계산 프로그램\n",
        "# 반지름: 10, 높이 1, 5, 14, 26, 31\n",
        "rad = 10\n",
        "hei_list = [1, 5, 14, 26, 31]\n",
        "\n",
        "for hei in hei_list :\n",
        "  # 부피\n",
        "  print(\"반지름이 \", rad, \"이고, 높이가 \", hei, \"인 원뿔의 부피는 \",\n",
        "        1 / 3 * 3.14 * rad ** 2 * hei, \"이다.\", sep=\"\")\n",
        "  # 겉넓이\n",
        "  print(\"반지름이 \", rad, \"이고, 높이가 \", hei, \"인 원뿔의 겉넓이는 \",\n",
        "        3.14 * rad ** 2 + 3.14 * rad * hei, \"이다.\", sep=\"\")\n",
        "  print(\"===================================================================\")"
      ],
      "metadata": {
        "colab": {
          "base_uri": "https://localhost:8080/"
        },
        "id": "D8kxQGumLfPf",
        "outputId": "ae5cf307-f76b-4185-eeb4-ad05fa7ecf42"
      },
      "execution_count": 15,
      "outputs": [
        {
          "output_type": "stream",
          "name": "stdout",
          "text": [
            "반지름이 10이고, 높이가 1인 원뿔의 부피는 104.66666666666666이다.\n",
            "반지름이 10이고, 높이가 1인 원뿔의 겉넓이는 345.4이다.\n",
            "===================================================================\n",
            "반지름이 10이고, 높이가 5인 원뿔의 부피는 523.3333333333333이다.\n",
            "반지름이 10이고, 높이가 5인 원뿔의 겉넓이는 471.0이다.\n",
            "===================================================================\n",
            "반지름이 10이고, 높이가 14인 원뿔의 부피는 1465.3333333333333이다.\n",
            "반지름이 10이고, 높이가 14인 원뿔의 겉넓이는 753.6이다.\n",
            "===================================================================\n",
            "반지름이 10이고, 높이가 26인 원뿔의 부피는 2721.333333333333이다.\n",
            "반지름이 10이고, 높이가 26인 원뿔의 겉넓이는 1130.4이다.\n",
            "===================================================================\n",
            "반지름이 10이고, 높이가 31인 원뿔의 부피는 3244.6666666666665이다.\n",
            "반지름이 10이고, 높이가 31인 원뿔의 겉넓이는 1287.4이다.\n",
            "===================================================================\n"
          ]
        }
      ]
    },
    {
      "cell_type": "code",
      "source": [
        "# 리스트 생성 자동화\n",
        "# range(a, b, k) : a부터 b보다 작은 값까지 k씩 증가시켜 시퀀스 생성\n",
        "# (a 생략 시 기본값 0, k 생략 시 기본값 1)\n",
        "range(1, 100, 1)\n",
        "rad_list = range(10, 40, 10)"
      ],
      "metadata": {
        "colab": {
          "base_uri": "https://localhost:8080/"
        },
        "id": "Mob7q_RhQO7M",
        "outputId": "e107733f-9284-4ed7-9e4e-5d494c5ec2ef"
      },
      "execution_count": 17,
      "outputs": [
        {
          "output_type": "stream",
          "name": "stdout",
          "text": [
            "range(10, 40, 10)\n"
          ]
        }
      ]
    },
    {
      "cell_type": "code",
      "source": [
        "# 반복 출력 프로그램 개선\n",
        "# '저는 파이썬을 잘 다룰 수 있습니다'를 5번 출력하는 프로그램을 작성하시오.\n",
        "\n",
        "# 메시지 저장\n",
        "msg = \"저는 파이썬을 잘 다룰 수 있습니다.\"\n",
        "\n",
        "# 5번 반복 출력\n",
        "for count in range(5) : # range(1, 6)과 같음\n",
        "  print(msg)"
      ],
      "metadata": {
        "colab": {
          "base_uri": "https://localhost:8080/"
        },
        "id": "btE85YFAQkt9",
        "outputId": "70dad586-a776-4a58-c3d8-46a84c8fa3fa"
      },
      "execution_count": 19,
      "outputs": [
        {
          "output_type": "stream",
          "name": "stdout",
          "text": [
            "저는 파이썬을 잘 다룰 수 있습니다.\n",
            "저는 파이썬을 잘 다룰 수 있습니다.\n",
            "저는 파이썬을 잘 다룰 수 있습니다.\n",
            "저는 파이썬을 잘 다룰 수 있습니다.\n",
            "저는 파이썬을 잘 다룰 수 있습니다.\n"
          ]
        }
      ]
    }
  ]
}