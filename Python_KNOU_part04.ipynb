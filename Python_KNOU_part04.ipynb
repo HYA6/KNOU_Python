{
  "nbformat": 4,
  "nbformat_minor": 0,
  "metadata": {
    "colab": {
      "provenance": [],
      "collapsed_sections": [
        "39WGtrcOpxRn",
        "5Ld3kCAfp5SH"
      ],
      "authorship_tag": "ABX9TyN6teynmAIep/O8LCtrN8sD",
      "include_colab_link": true
    },
    "kernelspec": {
      "name": "python3",
      "display_name": "Python 3"
    },
    "language_info": {
      "name": "python"
    }
  },
  "cells": [
    {
      "cell_type": "markdown",
      "metadata": {
        "id": "view-in-github",
        "colab_type": "text"
      },
      "source": [
        "<a href=\"https://colab.research.google.com/github/HYA6/Python_KNOU/blob/master/Python_KNOU_part04.ipynb\" target=\"_parent\"><img src=\"https://colab.research.google.com/assets/colab-badge.svg\" alt=\"Open In Colab\"/></a>"
      ]
    },
    {
      "cell_type": "markdown",
      "source": [
        "# **Python 수업 4강**"
      ],
      "metadata": {
        "id": "txUi7Rt6FkTC"
      }
    },
    {
      "cell_type": "markdown",
      "source": [
        "## 1. 프로그래밍 기초"
      ],
      "metadata": {
        "id": "39WGtrcOpxRn"
      }
    },
    {
      "cell_type": "markdown",
      "source": [
        "---\n",
        "### 숫자와 문자"
      ],
      "metadata": {
        "id": "tA3ETfyWGsbY"
      }
    },
    {
      "cell_type": "code",
      "execution_count": null,
      "metadata": {
        "colab": {
          "base_uri": "https://localhost:8080/"
        },
        "id": "5MPNGgFKD6jT",
        "outputId": "ae423a9f-2faf-4d96-a0b6-2adec2eff6cc"
      },
      "outputs": [
        {
          "output_type": "stream",
          "name": "stdout",
          "text": [
            "3.141592 53000000 Hello World\n",
            "<class 'float'> <class 'int'> <class 'str'>\n"
          ]
        }
      ],
      "source": [
        "a = 3.141592\n",
        "b = 53000000\n",
        "c = \"Hello World\"\n",
        "print(a, b, c) # print() 함수\n",
        "print(type(a), type(b), type(c))"
      ]
    },
    {
      "cell_type": "code",
      "source": [
        "# 한글이나 워드 파일은 유니코드 베이스이기 때문에 인용 부호가 다르다. (한글, 워드 : “”)\n",
        "# 따라서 문자 코드를 복사, 붙여넣기 하면 오류 발생\n",
        "\"Computer\" # 에코\n",
        "# “Hello World!”# SyntaxError: invalid character '“'"
      ],
      "metadata": {
        "colab": {
          "base_uri": "https://localhost:8080/",
          "height": 35
        },
        "id": "Kz50NMzaMrjh",
        "outputId": "cb3df9f7-79fb-48fe-96e8-415b21890fc1"
      },
      "execution_count": null,
      "outputs": [
        {
          "output_type": "execute_result",
          "data": {
            "text/plain": [
              "'Computer'"
            ],
            "application/vnd.google.colaboratory.intrinsic+json": {
              "type": "string"
            }
          },
          "metadata": {},
          "execution_count": 23
        }
      ]
    },
    {
      "cell_type": "markdown",
      "source": [
        "---\n",
        "### 기본연산자와 표현식"
      ],
      "metadata": {
        "id": "TVXOsVhHHZv4"
      }
    },
    {
      "cell_type": "code",
      "source": [
        "d = 2 * (7 + 15)\n",
        "e = 2 ** 10 * 5\n",
        "f = \"computer \" + \"science\"\n",
        "print(d, e, f)\n",
        "print(type(d), type(e), type(f))"
      ],
      "metadata": {
        "colab": {
          "base_uri": "https://localhost:8080/"
        },
        "id": "GdpX_8KVHdxo",
        "outputId": "c8928724-071f-4633-9f12-e1257eec67f1"
      },
      "execution_count": null,
      "outputs": [
        {
          "output_type": "stream",
          "name": "stdout",
          "text": [
            "44 5120 computer science\n",
            "<class 'int'> <class 'int'> <class 'str'>\n"
          ]
        }
      ]
    },
    {
      "cell_type": "code",
      "source": [
        "\"computer \" * 2"
      ],
      "metadata": {
        "colab": {
          "base_uri": "https://localhost:8080/",
          "height": 35
        },
        "id": "ohbSoYoHoadE",
        "outputId": "47d8c823-c2d2-4b3a-c25d-2ce8ce509aed"
      },
      "execution_count": null,
      "outputs": [
        {
          "output_type": "execute_result",
          "data": {
            "text/plain": [
              "'computer computer '"
            ],
            "application/vnd.google.colaboratory.intrinsic+json": {
              "type": "string"
            }
          },
          "metadata": {},
          "execution_count": 2
        }
      ]
    },
    {
      "cell_type": "markdown",
      "source": [
        "---\n",
        "### 함수"
      ],
      "metadata": {
        "id": "O9k1yqb_IIIQ"
      }
    },
    {
      "cell_type": "code",
      "source": [
        "print(\"Hello World!\")\n",
        "print(\"Python is fun\")"
      ],
      "metadata": {
        "colab": {
          "base_uri": "https://localhost:8080/"
        },
        "id": "EKAcVwnUH9Vw",
        "outputId": "d33aeeda-038d-4c9c-8c60-767d2f29bc73"
      },
      "execution_count": null,
      "outputs": [
        {
          "output_type": "stream",
          "name": "stdout",
          "text": [
            "Hello World!\n",
            "Python is fun\n"
          ]
        }
      ]
    },
    {
      "cell_type": "code",
      "source": [
        "print(\"Hello World!\")\n",
        "  # print(\"Python is fun\") 들여쓰기 오류 발생"
      ],
      "metadata": {
        "colab": {
          "base_uri": "https://localhost:8080/"
        },
        "id": "HUwbwd88IWRh",
        "outputId": "3c9a0bdb-573b-4d64-a589-aa7525da0848"
      },
      "execution_count": null,
      "outputs": [
        {
          "output_type": "stream",
          "name": "stdout",
          "text": [
            "Hello World!\n"
          ]
        }
      ]
    },
    {
      "cell_type": "markdown",
      "source": [
        "---\n",
        "### 문서화"
      ],
      "metadata": {
        "id": "DVg73PAbJIdA"
      }
    },
    {
      "cell_type": "code",
      "source": [
        "# 주석 사용법\n",
        "# 한 라인에 # 사용\n",
        "# 여러 라인엔 \"\"\" 또는 ''' 3개 연달아 사용 (Colab에선 동작 X)\n",
        "\n",
        "# 성적 계산\n",
        "# 계산 방식 sum(성적 * 학점)/(총학점)\n",
        "print((4.5 * 2 + 4.0 * 3) / (130 - 66))"
      ],
      "metadata": {
        "colab": {
          "base_uri": "https://localhost:8080/"
        },
        "id": "wcSz-9UUJMon",
        "outputId": "38dcf9d6-dab4-4a7f-8d74-41fcb0687b8e"
      },
      "execution_count": null,
      "outputs": [
        {
          "output_type": "stream",
          "name": "stdout",
          "text": [
            "0.328125\n"
          ]
        }
      ]
    },
    {
      "cell_type": "markdown",
      "source": [
        "## 2. 데이터 저장"
      ],
      "metadata": {
        "id": "5Ld3kCAfp5SH"
      }
    },
    {
      "cell_type": "markdown",
      "source": [
        "---\n",
        "### 원뿔의 부피 & 겉넓이 계산 코드"
      ],
      "metadata": {
        "id": "8L4DsYj1p8gc"
      }
    },
    {
      "cell_type": "code",
      "source": [
        "# 반지름 20, 높이 30\n",
        "\n",
        "# 부피 출력 (부피 = 1/3πr²h)\n",
        "print(1 / 3 * 3.14 * 20 ** 2 * 30)\n",
        "\n",
        "# 겉넓이 출력 (겉넓이 = πr² + πrh)\n",
        "print(3.14 * 20 ** 2 + 3.14 * 20 * 30)"
      ],
      "metadata": {
        "colab": {
          "base_uri": "https://localhost:8080/"
        },
        "id": "yatQUzxJp7ZB",
        "outputId": "a76e88b7-8136-4cdb-ff1f-7a492e60b034"
      },
      "execution_count": null,
      "outputs": [
        {
          "output_type": "stream",
          "name": "stdout",
          "text": [
            "12559.999999999998\n",
            "3140.0\n"
          ]
        }
      ]
    },
    {
      "cell_type": "code",
      "source": [
        "# 변수를 이용한 원뿔의 부피와 겉넓이 계산\n",
        "\n",
        "# 반지름, 높이 값 할당\n",
        "rad = 40 # rad : lvalue (값 할당), 40 : rvalue (값 호출)\n",
        "hei = 10\n",
        "\n",
        "# 부피 출력\n",
        "print(1 / 3 * 3.14 * rad ** 2 * hei)\n",
        "# 겉넓이 출력\n",
        "print(3.14 * rad ** 2 + 3.14 * rad * hei)"
      ],
      "metadata": {
        "colab": {
          "base_uri": "https://localhost:8080/"
        },
        "id": "NVpZ6sMztfOd",
        "outputId": "e0df0d59-601b-4741-f55e-0e4cbc147fe3"
      },
      "execution_count": null,
      "outputs": [
        {
          "output_type": "stream",
          "name": "stdout",
          "text": [
            "16746.666666666664\n",
            "6280.0\n"
          ]
        }
      ]
    },
    {
      "cell_type": "markdown",
      "source": [
        "## 3.산술연산자"
      ],
      "metadata": {
        "id": "i-o3b4U_uOVF"
      }
    },
    {
      "cell_type": "markdown",
      "source": [
        "---\n",
        "### 특수 산술연산자 (정수 나눗셈 연산자 : //, 모듈로 연산자 : %)"
      ],
      "metadata": {
        "id": "s_PAM7wsv7OZ"
      }
    },
    {
      "cell_type": "code",
      "source": [
        "5 / 2"
      ],
      "metadata": {
        "colab": {
          "base_uri": "https://localhost:8080/"
        },
        "id": "csjN9ibVvy7p",
        "outputId": "68f80f28-7308-49ba-8432-1cc6b85c8541"
      },
      "execution_count": null,
      "outputs": [
        {
          "output_type": "execute_result",
          "data": {
            "text/plain": [
              "2.5"
            ]
          },
          "metadata": {},
          "execution_count": 8
        }
      ]
    },
    {
      "cell_type": "code",
      "source": [
        "5 // 2"
      ],
      "metadata": {
        "colab": {
          "base_uri": "https://localhost:8080/"
        },
        "id": "G5eq1O4pvv-h",
        "outputId": "4be73397-9c31-4d89-bd00-f62de00c33c0"
      },
      "execution_count": null,
      "outputs": [
        {
          "output_type": "execute_result",
          "data": {
            "text/plain": [
              "2"
            ]
          },
          "metadata": {},
          "execution_count": 9
        }
      ]
    },
    {
      "cell_type": "code",
      "source": [
        "# 홀수, 짝수 구분에 유용하게 쓰임\n",
        "25 % 7"
      ],
      "metadata": {
        "colab": {
          "base_uri": "https://localhost:8080/"
        },
        "id": "AbFc7F21wFfF",
        "outputId": "07921e24-c390-4a0c-e0b0-73a807fcec51"
      },
      "execution_count": null,
      "outputs": [
        {
          "output_type": "execute_result",
          "data": {
            "text/plain": [
              "4"
            ]
          },
          "metadata": {},
          "execution_count": 10
        }
      ]
    },
    {
      "cell_type": "code",
      "source": [
        "8.4 % 0.9"
      ],
      "metadata": {
        "colab": {
          "base_uri": "https://localhost:8080/"
        },
        "id": "zTWFDf2-wIVQ",
        "outputId": "036ab3d9-30e8-4864-a9db-003ba5e9b360"
      },
      "execution_count": null,
      "outputs": [
        {
          "output_type": "execute_result",
          "data": {
            "text/plain": [
              "0.30000000000000016"
            ]
          },
          "metadata": {},
          "execution_count": 11
        }
      ]
    },
    {
      "cell_type": "code",
      "source": [
        "number = 10\n",
        "number % 2"
      ],
      "metadata": {
        "colab": {
          "base_uri": "https://localhost:8080/"
        },
        "id": "reSczF2QwLBv",
        "outputId": "da578235-c79b-447a-d461-78bb0dcf4145"
      },
      "execution_count": null,
      "outputs": [
        {
          "output_type": "execute_result",
          "data": {
            "text/plain": [
              "0"
            ]
          },
          "metadata": {},
          "execution_count": 12
        }
      ]
    },
    {
      "cell_type": "markdown",
      "source": [
        "---\n",
        "### 내장 함수"
      ],
      "metadata": {
        "id": "j2RYq1LPwiva"
      }
    },
    {
      "cell_type": "code",
      "source": [
        "max(2, 3, 4)"
      ],
      "metadata": {
        "colab": {
          "base_uri": "https://localhost:8080/"
        },
        "id": "XF81kYr-wtMk",
        "outputId": "4410a76f-536b-4a41-caa4-074a8a028dea"
      },
      "execution_count": null,
      "outputs": [
        {
          "output_type": "execute_result",
          "data": {
            "text/plain": [
              "4"
            ]
          },
          "metadata": {},
          "execution_count": 14
        }
      ]
    },
    {
      "cell_type": "code",
      "source": [
        "min(2, 3, 4)"
      ],
      "metadata": {
        "colab": {
          "base_uri": "https://localhost:8080/"
        },
        "id": "tuikp5V9wsq5",
        "outputId": "1eb23e18-c9d6-4f2b-d1b4-56ce5d7533c1"
      },
      "execution_count": null,
      "outputs": [
        {
          "output_type": "execute_result",
          "data": {
            "text/plain": [
              "2"
            ]
          },
          "metadata": {},
          "execution_count": 15
        }
      ]
    },
    {
      "cell_type": "code",
      "source": [
        "# 반올림\n",
        "round(3.14)"
      ],
      "metadata": {
        "colab": {
          "base_uri": "https://localhost:8080/"
        },
        "id": "_GAt3GvUwnc4",
        "outputId": "5e42314b-fd91-49da-c6c1-6de766708f8f"
      },
      "execution_count": null,
      "outputs": [
        {
          "output_type": "execute_result",
          "data": {
            "text/plain": [
              "3"
            ]
          },
          "metadata": {},
          "execution_count": 13
        }
      ]
    },
    {
      "cell_type": "code",
      "source": [
        "# 절대값\n",
        "abs(-3)"
      ],
      "metadata": {
        "colab": {
          "base_uri": "https://localhost:8080/"
        },
        "id": "AgfzTOicwyQE",
        "outputId": "20370bd7-05b8-4e4b-c53c-2452bcfcd5cc"
      },
      "execution_count": null,
      "outputs": [
        {
          "output_type": "execute_result",
          "data": {
            "text/plain": [
              "3"
            ]
          },
          "metadata": {},
          "execution_count": 16
        }
      ]
    },
    {
      "cell_type": "code",
      "source": [
        "# 제곱근\n",
        "pow(2, 3)"
      ],
      "metadata": {
        "colab": {
          "base_uri": "https://localhost:8080/"
        },
        "id": "7zPcLLe3w6XD",
        "outputId": "5fb900d5-0acb-47f1-bb84-bccb02ad3295"
      },
      "execution_count": null,
      "outputs": [
        {
          "output_type": "execute_result",
          "data": {
            "text/plain": [
              "8"
            ]
          },
          "metadata": {},
          "execution_count": 17
        }
      ]
    }
  ]
}