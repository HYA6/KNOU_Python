{
  "nbformat": 4,
  "nbformat_minor": 0,
  "metadata": {
    "colab": {
      "provenance": [],
      "authorship_tag": "ABX9TyNBnMokT9nrDkGyxSXQcyzf",
      "include_colab_link": true
    },
    "kernelspec": {
      "name": "python3",
      "display_name": "Python 3"
    },
    "language_info": {
      "name": "python"
    }
  },
  "cells": [
    {
      "cell_type": "markdown",
      "metadata": {
        "id": "view-in-github",
        "colab_type": "text"
      },
      "source": [
        "<a href=\"https://colab.research.google.com/github/HYA6/Python_KNOU/blob/master/Python_KNOU_part06.ipynb\" target=\"_parent\"><img src=\"https://colab.research.google.com/assets/colab-badge.svg\" alt=\"Open In Colab\"/></a>"
      ]
    },
    {
      "cell_type": "markdown",
      "source": [
        "# **Python 수업 6강**"
      ],
      "metadata": {
        "id": "sJrB5XhJDqp2"
      }
    },
    {
      "cell_type": "markdown",
      "source": [
        "## **선택 구조**"
      ],
      "metadata": {
        "id": "KzDQe_GVDxcN"
      }
    },
    {
      "cell_type": "markdown",
      "source": [
        "---\n",
        "### Boolean type"
      ],
      "metadata": {
        "id": "85FQ4gCdFb9G"
      }
    },
    {
      "cell_type": "code",
      "source": [
        "light_on = 3 < 6\n",
        "suf = 10\n",
        "vol = 20\n",
        "isStop = suf == vol\n",
        "print(light_on)\n",
        "print(isStop)"
      ],
      "metadata": {
        "colab": {
          "base_uri": "https://localhost:8080/"
        },
        "id": "jJtxxpFNFa5-",
        "outputId": "98f2229f-1a05-4dbb-d03d-1b610cc89e59"
      },
      "execution_count": null,
      "outputs": [
        {
          "output_type": "stream",
          "name": "stdout",
          "text": [
            "True\n",
            "False\n"
          ]
        }
      ]
    },
    {
      "cell_type": "markdown",
      "source": [
        "---\n",
        "### 논리 연산자"
      ],
      "metadata": {
        "id": "TMX-KFx_PLb5"
      }
    },
    {
      "cell_type": "code",
      "source": [
        "temp = 20\n",
        "fruit = \"apple\"\n",
        "rad = 30\n",
        "hei = 15\n",
        "\n",
        "print(not temp <= 27)\n",
        "print(temp >= 27 and fruit == \"apple\")\n",
        "print(temp >= 27 or fruit == \"apple\")"
      ],
      "metadata": {
        "colab": {
          "base_uri": "https://localhost:8080/"
        },
        "id": "PZtRCfrQPN_n",
        "outputId": "905a8a8b-f066-4e01-f89c-e2e46d09dfd4"
      },
      "execution_count": null,
      "outputs": [
        {
          "output_type": "stream",
          "name": "stdout",
          "text": [
            "False\n",
            "False\n",
            "True\n"
          ]
        }
      ]
    },
    {
      "cell_type": "markdown",
      "source": [
        "---\n",
        "### 원뿔 부피와 겉넓이 계산"
      ],
      "metadata": {
        "id": "aqUy9zaTD05W"
      }
    },
    {
      "cell_type": "code",
      "source": [
        "#반지름 사용자 입력\n",
        "rad = int(input(\"반지름을 입력하세요:\"))\n",
        "#높이 사용자 입력\n",
        "hei = int(input(\"높이를 입력하세요:\"))\n",
        "print(\"=========================\")\n",
        "\n",
        "if rad > 0 and hei > 0 : # and 대신 & 사용 가능\n",
        "  #부피 계산\n",
        "  vol = 1/3 * 3.14 * rad ** 2 * hei\n",
        "  print(\"부피의 값은\", vol, \"입니다.\")\n",
        "  #겉넓이 계산\n",
        "  suf = 3.14 * rad ** 2 + 3.14 * rad * hei\n",
        "  print(\"겉넓이의 값은\", suf, \"입니다.\")\n",
        "else :\n",
        "  print(\"반지름이나 높이가 양의 정수가 아닙니다.\")"
      ],
      "metadata": {
        "colab": {
          "base_uri": "https://localhost:8080/"
        },
        "id": "ChG36zVhECtl",
        "outputId": "2a951845-983f-4eb5-e4bf-fb97fb8c0ea3"
      },
      "execution_count": null,
      "outputs": [
        {
          "output_type": "stream",
          "name": "stdout",
          "text": [
            "반지름을 입력하세요:20\n",
            "높이를 입력하세요:40\n",
            "=========================\n",
            "부피의 값은 16746.666666666664 입니다.\n",
            "겉넓이의 값은 3768.0 입니다.\n"
          ]
        }
      ]
    }
  ]
}